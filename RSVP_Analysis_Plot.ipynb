{
  "nbformat": 4,
  "nbformat_minor": 0,
  "metadata": {
    "colab": {
      "name": "Big_Data_Package_Plot.ipynb",
      "provenance": [],
      "collapsed_sections": []
    },
    "kernelspec": {
      "name": "python3",
      "display_name": "Python 3"
    },
    "language_info": {
      "name": "python"
    }
  },
  "cells": [
    {
      "cell_type": "markdown",
      "metadata": {
        "id": "v7mSuN-KpHNL"
      },
      "source": [
        "## Setup MySQL Server"
      ]
    },
    {
      "cell_type": "code",
      "metadata": {
        "id": "SfsAMLxNo-gM"
      },
      "source": [
        "config = {\n",
        "  'user': 'admin',\n",
        "  'password': '************',\n",
        "  'host': '************.rds.amazonaws.com',\n",
        "  'database': 'BigData'\n",
        "}"
      ],
      "execution_count": null,
      "outputs": []
    },
    {
      "cell_type": "code",
      "metadata": {
        "id": "jB5VMGNSpQ57",
        "colab": {
          "base_uri": "https://localhost:8080/"
        },
        "outputId": "1280b1d7-a540-42ef-f686-8bd70df9f8eb"
      },
      "source": [
        "!pip install PyMySQL"
      ],
      "execution_count": null,
      "outputs": [
        {
          "output_type": "stream",
          "text": [
            "Collecting PyMySQL\n",
            "\u001b[?25l  Downloading https://files.pythonhosted.org/packages/4f/52/a115fe175028b058df353c5a3d5290b71514a83f67078a6482cff24d6137/PyMySQL-1.0.2-py3-none-any.whl (43kB)\n",
            "\r\u001b[K     |███████▌                        | 10kB 16.6MB/s eta 0:00:01\r\u001b[K     |███████████████                 | 20kB 12.4MB/s eta 0:00:01\r\u001b[K     |██████████████████████▍         | 30kB 8.9MB/s eta 0:00:01\r\u001b[K     |██████████████████████████████  | 40kB 7.4MB/s eta 0:00:01\r\u001b[K     |████████████████████████████████| 51kB 3.8MB/s \n",
            "\u001b[?25hInstalling collected packages: PyMySQL\n",
            "Successfully installed PyMySQL-1.0.2\n"
          ],
          "name": "stdout"
        }
      ]
    },
    {
      "cell_type": "code",
      "metadata": {
        "id": "MwlXk317pMNY"
      },
      "source": [
        "import pymysql\n",
        "conn = pymysql.connect(**config)"
      ],
      "execution_count": null,
      "outputs": []
    },
    {
      "cell_type": "markdown",
      "metadata": {
        "id": "A9ThX6DQpWSH"
      },
      "source": [
        "## Plot"
      ]
    },
    {
      "cell_type": "code",
      "metadata": {
        "id": "m2kH2eS7sZ6N"
      },
      "source": [
        "import time\n",
        "import pandas as pd\n",
        "import matplotlib.pyplot as plt\n",
        "import matplotlib.ticker as ticker"
      ],
      "execution_count": null,
      "outputs": []
    },
    {
      "cell_type": "code",
      "metadata": {
        "id": "o7ngeZD9rPm3"
      },
      "source": [
        "colors = dict(zip(\n",
        "    ['Europe', 'Asia', 'Oceania', 'Americas', 'Africa'],\n",
        "    ['#ffb3ff', '#90d595', '#e48381', '#f7bb5f', '#eafb50']\n",
        "))"
      ],
      "execution_count": null,
      "outputs": []
    },
    {
      "cell_type": "code",
      "metadata": {
        "id": "B83pH8M_pOcc"
      },
      "source": [
        "def plot(_):\n",
        "\n",
        "  # time.sleep(3)\n",
        "  df = read_mysql()\n",
        "\n",
        "  # fig, ax = plt.subplots(figsize=(15, 8))\n",
        "  dff = df.iloc[::-1]\n",
        "  ax.clear()\n",
        "  ax.barh(dff['name'], dff['count'], color=[colors[x] for x in dff['region']])\n",
        "  dx = dff['count'].max() / 200\n",
        "  \n",
        "  for i, (value, name) in enumerate(zip(dff['count'], dff['name'])):\n",
        "      ax.text(value-dx, i,     name,           size=14, weight=600, ha='right', va='bottom')\n",
        "      # ax.text(value-dx, i-.25, group_lk[name], size=10, color='#444444', ha='right', va='baseline')\n",
        "      ax.text(value+dx, i,     f'{value:,.0f}',  size=14, ha='left',  va='center')\n",
        "\n",
        "  # ... polished styles\n",
        "  # ax.text(1, 0.4, year, transform=ax.transAxes, color='#777777', size=46, ha='right', weight=800)\n",
        "  ax.text(0, 1.06, 'Response Count', transform=ax.transAxes, size=12, color='#777777')\n",
        "  ax.xaxis.set_major_formatter(ticker.StrMethodFormatter('{x:,.0f}'))\n",
        "  ax.xaxis.set_ticks_position('top')\n",
        "  ax.tick_params(axis='x', colors='#777777', labelsize=12)\n",
        "  ax.set_yticks([])\n",
        "  ax.margins(0, 0.01)\n",
        "  ax.grid(which='major', axis='x', linestyle='-')\n",
        "  ax.set_axisbelow(True)\n",
        "  ax.text(0, 1.12, 'Region of Meetups with most responses',\n",
        "          transform=ax.transAxes, size=24, weight=600, ha='left')\n",
        "  plt.box(False)"
      ],
      "execution_count": null,
      "outputs": []
    },
    {
      "cell_type": "markdown",
      "metadata": {
        "id": "otSdt1eGplQg"
      },
      "source": [
        "## Read From MySQL"
      ]
    },
    {
      "cell_type": "code",
      "metadata": {
        "id": "kmm3HR9Apnsy"
      },
      "source": [
        "def read_mysql():\n",
        "\n",
        "  sql = 'SELECT * FROM countries ORDER BY count DESC LIMIT 10'\n",
        "\n",
        "  with conn.cursor() as cur:\n",
        "    cur.execute(sql)\n",
        "    result = cur.fetchall()\n",
        "\n",
        "  data = pd.DataFrame(data=result, columns=['name', 'alpha', 'region', 'count'])\n",
        "  return data"
      ],
      "execution_count": null,
      "outputs": []
    },
    {
      "cell_type": "markdown",
      "metadata": {
        "id": "ORuCosrvsgo3"
      },
      "source": [
        "## Animation"
      ]
    },
    {
      "cell_type": "code",
      "metadata": {
        "id": "VIodl0iwshRt"
      },
      "source": [
        "import matplotlib.animation as animation\n",
        "from IPython.display import HTML\n",
        "fig, ax = plt.subplots(figsize=(15, 8))\n",
        "animator = animation.FuncAnimation(fig, plot, frames=range(1968, 2019))\n",
        "HTML(animator.to_jshtml()) "
      ],
      "execution_count": null,
      "outputs": []
    }
  ]
}