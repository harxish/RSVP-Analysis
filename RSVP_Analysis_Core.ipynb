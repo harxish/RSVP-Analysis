{
  "nbformat": 4,
  "nbformat_minor": 0,
  "metadata": {
    "colab": {
      "name": "Big_Data_Package.ipynb",
      "provenance": [],
      "collapsed_sections": [
        "cOWPZkShLvdL",
        "RKneHdawMqnz",
        "xu10vY2cPaGC",
        "TJS11-0TOuKP",
        "Bf7N4JR2SBYq",
        "si2xi-nJEiJc",
        "5LK__lnCH4ni",
        "m1J0JGBEJKBj",
        "TfWZXQpiK0v-",
        "S_bcB3AYVqbh"
      ]
    },
    "kernelspec": {
      "display_name": "Python 3",
      "name": "python3"
    },
    "language_info": {
      "name": "python"
    }
  },
  "cells": [
    {
      "cell_type": "markdown",
      "metadata": {
        "id": "cOWPZkShLvdL"
      },
      "source": [
        "## Download and Setup Kafka"
      ]
    },
    {
      "cell_type": "code",
      "metadata": {
        "id": "qr-RTnNeLRm3"
      },
      "source": [
        "!curl -sSOL https://downloads.apache.org/kafka/2.7.0/kafka_2.13-2.7.0.tgz\n",
        "!tar -xzf kafka_2.13-2.7.0.tgz"
      ],
      "execution_count": null,
      "outputs": []
    },
    {
      "cell_type": "code",
      "metadata": {
        "colab": {
          "base_uri": "https://localhost:8080/"
        },
        "id": "1eufS9gEL63g",
        "outputId": "40c5a02c-e5d2-44f1-f25d-67d24cacb0d2"
      },
      "source": [
        "!./kafka_2.13-2.7.0/bin/zookeeper-server-start.sh -daemon ./kafka_2.13-2.7.0/config/zookeeper.properties\n",
        "!./kafka_2.13-2.7.0/bin/kafka-server-start.sh -daemon ./kafka_2.13-2.7.0/config/server.properties\n",
        "!echo \"Waiting for 10 secs until kafka and zookeeper services are up and running\"\n",
        "!sleep 10"
      ],
      "execution_count": null,
      "outputs": [
        {
          "output_type": "stream",
          "text": [
            "Waiting for 10 secs until kafka and zookeeper services are up and running\n"
          ],
          "name": "stdout"
        }
      ]
    },
    {
      "cell_type": "code",
      "metadata": {
        "colab": {
          "base_uri": "https://localhost:8080/"
        },
        "id": "YT7CppMrL7mt",
        "outputId": "5b18955a-6d9e-4075-a1a1-e2236a88f95e"
      },
      "source": [
        "!ps -ef | grep kafka"
      ],
      "execution_count": null,
      "outputs": [
        {
          "output_type": "stream",
          "text": [
            "root         447       1 16 05:21 ?        00:00:02 java -Xmx512M -Xms512M -server -XX:+UseG1GC -XX:MaxGCPauseMillis=20 -XX:InitiatingHeapOccupancyPercent=35 -XX:+ExplicitGCInvokesConcurrent -XX:MaxInlineLevel=15 -Djava.awt.headless=true -Xlog:gc*:file=/content/kafka_2.13-2.7.0/bin/../logs/zookeeper-gc.log:time,tags:filecount=10,filesize=100M -Dcom.sun.management.jmxremote -Dcom.sun.management.jmxremote.authenticate=false -Dcom.sun.management.jmxremote.ssl=false -Dkafka.logs.dir=/content/kafka_2.13-2.7.0/bin/../logs -Dlog4j.configuration=file:./kafka_2.13-2.7.0/bin/../config/log4j.properties -cp /content/kafka_2.13-2.7.0/bin/../libs/activation-1.1.1.jar:/content/kafka_2.13-2.7.0/bin/../libs/aopalliance-repackaged-2.6.1.jar:/content/kafka_2.13-2.7.0/bin/../libs/argparse4j-0.7.0.jar:/content/kafka_2.13-2.7.0/bin/../libs/audience-annotations-0.5.0.jar:/content/kafka_2.13-2.7.0/bin/../libs/commons-cli-1.4.jar:/content/kafka_2.13-2.7.0/bin/../libs/commons-lang3-3.8.1.jar:/content/kafka_2.13-2.7.0/bin/../libs/connect-api-2.7.0.jar:/content/kafka_2.13-2.7.0/bin/../libs/connect-basic-auth-extension-2.7.0.jar:/content/kafka_2.13-2.7.0/bin/../libs/connect-file-2.7.0.jar:/content/kafka_2.13-2.7.0/bin/../libs/connect-json-2.7.0.jar:/content/kafka_2.13-2.7.0/bin/../libs/connect-mirror-2.7.0.jar:/content/kafka_2.13-2.7.0/bin/../libs/connect-mirror-client-2.7.0.jar:/content/kafka_2.13-2.7.0/bin/../libs/connect-runtime-2.7.0.jar:/content/kafka_2.13-2.7.0/bin/../libs/connect-transforms-2.7.0.jar:/content/kafka_2.13-2.7.0/bin/../libs/hk2-api-2.6.1.jar:/content/kafka_2.13-2.7.0/bin/../libs/hk2-locator-2.6.1.jar:/content/kafka_2.13-2.7.0/bin/../libs/hk2-utils-2.6.1.jar:/content/kafka_2.13-2.7.0/bin/../libs/jackson-annotations-2.10.5.jar:/content/kafka_2.13-2.7.0/bin/../libs/jackson-core-2.10.5.jar:/content/kafka_2.13-2.7.0/bin/../libs/jackson-databind-2.10.5.1.jar:/content/kafka_2.13-2.7.0/bin/../libs/jackson-dataformat-csv-2.10.5.jar:/content/kafka_2.13-2.7.0/bin/../libs/jackson-datatype-jdk8-2.10.5.jar:/content/kafka_2.13-2.7.0/bin/../libs/jackson-jaxrs-base-2.10.5.jar:/content/kafka_2.13-2.7.0/bin/../libs/jackson-jaxrs-json-provider-2.10.5.jar:/content/kafka_2.13-2.7.0/bin/../libs/jackson-module-jaxb-annotations-2.10.5.jar:/content/kafka_2.13-2.7.0/bin/../libs/jackson-module-paranamer-2.10.5.jar:/content/kafka_2.13-2.7.0/bin/../libs/jackson-module-scala_2.13-2.10.5.jar:/content/kafka_2.13-2.7.0/bin/../libs/jakarta.activation-api-1.2.1.jar:/content/kafka_2.13-2.7.0/bin/../libs/jakarta.annotation-api-1.3.5.jar:/content/kafka_2.13-2.7.0/bin/../libs/jakarta.inject-2.6.1.jar:/content/kafka_2.13-2.7.0/bin/../libs/jakarta.validation-api-2.0.2.jar:/content/kafka_2.13-2.7.0/bin/../libs/jakarta.ws.rs-api-2.1.6.jar:/content/kafka_2.13-2.7.0/bin/../libs/jakarta.xml.bind-api-2.3.2.jar:/content/kafka_2.13-2.7.0/bin/../libs/javassist-3.25.0-GA.jar:/content/kafka_2.13-2.7.0/bin/../libs/javassist-3.26.0-GA.jar:/content/kafka_2.13-2.7.0/bin/../libs/javax.servlet-api-3.1.0.jar:/content/kafka_2.13-2.7.0/bin/../libs/javax.ws.rs-api-2.1.1.jar:/content/kafka_2.13-2.7.0/bin/../libs/jaxb-api-2.3.0.jar:/content/kafka_2.13-2.7.0/bin/../libs/jersey-client-2.31.jar:/content/kafka_2.13-2.7.0/bin/../libs/jersey-common-2.31.jar:/content/kafka_2.13-2.7.0/bin/../libs/jersey-container-servlet-2.31.jar:/content/kafka_2.13-2.7.0/bin/../libs/jersey-container-servlet-core-2.31.jar:/content/kafka_2.13-2.7.0/bin/../libs/jersey-hk2-2.31.jar:/content/kafka_2.13-2.7.0/bin/../libs/jersey-media-jaxb-2.31.jar:/content/kafka_2.13-2.7.0/bin/../libs/jersey-server-2.31.jar:/content/kafka_2.13-2.7.0/bin/../libs/jetty-client-9.4.33.v20201020.jar:/content/kafka_2.13-2.7.0/bin/../libs/jetty-continuation-9.4.33.v20201020.jar:/content/kafka_2.13-2.7.0/bin/../libs/jetty-http-9.4.33.v20201020.jar:/content/kafka_2.13-2.7.0/bin/../libs/jetty-io-9.4.33.v20201020.jar:/content/kafka_2.13-2.7.0/bin/../libs/jetty-security-9.4.33.v20201020.jar:/content/kafka_2.13-2.7.0/bin/../libs/jetty-server-9.4.33.v20201020.jar:/content/kafka_2.13-2.7.0/bin/../libs/jetty-servlet-9.4.33.v20201020.jar:/content/kafka_2.13-2.7.0/bin/../libs/jetty-servlets-9.4.33.v20201020.jar:/content/kafka_2.13-2.7.0/bin/../libs/jetty-util-9.4.33.v20201020.jar:/content/kafka_2.13-2.7.0/bin/../libs/jopt-simple-5.0.4.jar:/content/kafka_2.13-2.7.0/bin/../libs/kafka_2.13-2.7.0.jar:/content/kafka_2.13-2.7.0/bin/../libs/kafka_2.13-2.7.0-sources.jar:/content/kafka_2.13-2.7.0/bin/../libs/kafka-clients-2.7.0.jar:/content/kafka_2.13-2.7.0/bin/../libs/kafka-log4j-appender-2.7.0.jar:/content/kafka_2.13-2.7.0/bin/../libs/kafka-raft-2.7.0.jar:/content/kafka_2.13-2.7.0/bin/../libs/kafka-streams-2.7.0.jar:/content/kafka_2.13-2.7.0/bin/../libs/kafka-streams-examples-2.7.0.jar:/content/kafka_2.13-2.7.0/bin/../libs/kafka-streams-scala_2.13-2.7.0.jar:/content/kafka_2.13-2.7.0/bin/../libs/kafka-streams-test-utils-2.7.0.jar:/content/kafka_2.13-2.7.0/bin/../libs/kafka-tools-2.7.0.jar:/content/kafka_2.13-2.7.0/bin/../libs/log4j-1.2.17.jar:/content/kafka_2.13-2.7.0/bin/../libs/lz4-java-1.7.1.jar:/content/kafka_2.13-2.7.0/bin/../libs/maven-artifact-3.6.3.jar:/content/kafka_2.13-2.7.0/bin/../libs/metrics-core-2.2.0.jar:/content/kafka_2.13-2.7.0/bin/../libs/netty-buffer-4.1.51.Final.jar:/content/kafka_2.13-2.7.0/bin/../libs/netty-codec-4.1.51.Final.jar:/content/kafka_2.13-2.7.0/bin/../libs/netty-common-4.1.51.Final.jar:/content/kafka_2.13-2.7.0/bin/../libs/netty-handler-4.1.51.Final.jar:/content/kafka_2.13-2.7.0/bin/../libs/netty-resolver-4.1.51.Final.jar:/content/kafka_2.13-2.7.0/bin/../libs/netty-transport-4.1.51.Final.jar:/content/kafka_2.13-2.7.0/bin/../libs/netty-transport-native-epoll-4.1.51.Final.jar:/content/kafka_2.13-2.7.0/bin/../libs/netty-transport-native-unix-common-4.1.51.Final.jar:/content/kafka_2.13-2.7.0/bin/../libs/osgi-resource-locator-1.0.3.jar:/content/kafka_2.13-2.7.0/bin/../libs/paranamer-2.8.jar:/content/kafka_2.13-2.7.0/bin/../libs/plexus-utils-3.2.1.jar:/content/kafka_2.13-2.7.0/bin/../libs/reflections-0.9.12.jar:/content/kafka_2.13-2.7.0/bin/../libs/rocksdbjni-5.18.4.jar:/content/kafka_2.13-2.7.0/bin/../libs/scala-collection-compat_2.13-2.2.0.jar:/content/kafka_2.13-2.7.0/bin/../libs/scala-java8-compat_2.13-0.9.1.jar:/content/kafka_2.13-2.7.0/bin/../libs/scala-library-2.13.3.jar:/content/kafka_2.13-2.7.0/bin/../libs/scala-logging_2.13-3.9.2.jar:/content/kafka_2.13-2.7.0/bin/../libs/scala-reflect-2.13.3.jar:/content/kafka_2.13-2.7.0/bin/../libs/slf4j-api-1.7.30.jar:/content/kafka_2.13-2.7.0/bin/../libs/slf4j-log4j12-1.7.30.jar:/content/kafka_2.13-2.7.0/bin/../libs/snappy-java-1.1.7.7.jar:/content/kafka_2.13-2.7.0/bin/../libs/zookeeper-3.5.8.jar:/content/kafka_2.13-2.7.0/bin/../libs/zookeeper-jute-3.5.8.jar:/content/kafka_2.13-2.7.0/bin/../libs/zstd-jni-1.4.5-6.jar org.apache.zookeeper.server.quorum.QuorumPeerMain ./kafka_2.13-2.7.0/config/zookeeper.properties\n",
            "root         803       1 64 05:21 ?        00:00:06 java -Xmx1G -Xms1G -server -XX:+UseG1GC -XX:MaxGCPauseMillis=20 -XX:InitiatingHeapOccupancyPercent=35 -XX:+ExplicitGCInvokesConcurrent -XX:MaxInlineLevel=15 -Djava.awt.headless=true -Xlog:gc*:file=/content/kafka_2.13-2.7.0/bin/../logs/kafkaServer-gc.log:time,tags:filecount=10,filesize=100M -Dcom.sun.management.jmxremote -Dcom.sun.management.jmxremote.authenticate=false -Dcom.sun.management.jmxremote.ssl=false -Dkafka.logs.dir=/content/kafka_2.13-2.7.0/bin/../logs -Dlog4j.configuration=file:./kafka_2.13-2.7.0/bin/../config/log4j.properties -cp /content/kafka_2.13-2.7.0/bin/../libs/activation-1.1.1.jar:/content/kafka_2.13-2.7.0/bin/../libs/aopalliance-repackaged-2.6.1.jar:/content/kafka_2.13-2.7.0/bin/../libs/argparse4j-0.7.0.jar:/content/kafka_2.13-2.7.0/bin/../libs/audience-annotations-0.5.0.jar:/content/kafka_2.13-2.7.0/bin/../libs/commons-cli-1.4.jar:/content/kafka_2.13-2.7.0/bin/../libs/commons-lang3-3.8.1.jar:/content/kafka_2.13-2.7.0/bin/../libs/connect-api-2.7.0.jar:/content/kafka_2.13-2.7.0/bin/../libs/connect-basic-auth-extension-2.7.0.jar:/content/kafka_2.13-2.7.0/bin/../libs/connect-file-2.7.0.jar:/content/kafka_2.13-2.7.0/bin/../libs/connect-json-2.7.0.jar:/content/kafka_2.13-2.7.0/bin/../libs/connect-mirror-2.7.0.jar:/content/kafka_2.13-2.7.0/bin/../libs/connect-mirror-client-2.7.0.jar:/content/kafka_2.13-2.7.0/bin/../libs/connect-runtime-2.7.0.jar:/content/kafka_2.13-2.7.0/bin/../libs/connect-transforms-2.7.0.jar:/content/kafka_2.13-2.7.0/bin/../libs/hk2-api-2.6.1.jar:/content/kafka_2.13-2.7.0/bin/../libs/hk2-locator-2.6.1.jar:/content/kafka_2.13-2.7.0/bin/../libs/hk2-utils-2.6.1.jar:/content/kafka_2.13-2.7.0/bin/../libs/jackson-annotations-2.10.5.jar:/content/kafka_2.13-2.7.0/bin/../libs/jackson-core-2.10.5.jar:/content/kafka_2.13-2.7.0/bin/../libs/jackson-databind-2.10.5.1.jar:/content/kafka_2.13-2.7.0/bin/../libs/jackson-dataformat-csv-2.10.5.jar:/content/kafka_2.13-2.7.0/bin/../libs/jackson-datatype-jdk8-2.10.5.jar:/content/kafka_2.13-2.7.0/bin/../libs/jackson-jaxrs-base-2.10.5.jar:/content/kafka_2.13-2.7.0/bin/../libs/jackson-jaxrs-json-provider-2.10.5.jar:/content/kafka_2.13-2.7.0/bin/../libs/jackson-module-jaxb-annotations-2.10.5.jar:/content/kafka_2.13-2.7.0/bin/../libs/jackson-module-paranamer-2.10.5.jar:/content/kafka_2.13-2.7.0/bin/../libs/jackson-module-scala_2.13-2.10.5.jar:/content/kafka_2.13-2.7.0/bin/../libs/jakarta.activation-api-1.2.1.jar:/content/kafka_2.13-2.7.0/bin/../libs/jakarta.annotation-api-1.3.5.jar:/content/kafka_2.13-2.7.0/bin/../libs/jakarta.inject-2.6.1.jar:/content/kafka_2.13-2.7.0/bin/../libs/jakarta.validation-api-2.0.2.jar:/content/kafka_2.13-2.7.0/bin/../libs/jakarta.ws.rs-api-2.1.6.jar:/content/kafka_2.13-2.7.0/bin/../libs/jakarta.xml.bind-api-2.3.2.jar:/content/kafka_2.13-2.7.0/bin/../libs/javassist-3.25.0-GA.jar:/content/kafka_2.13-2.7.0/bin/../libs/javassist-3.26.0-GA.jar:/content/kafka_2.13-2.7.0/bin/../libs/javax.servlet-api-3.1.0.jar:/content/kafka_2.13-2.7.0/bin/../libs/javax.ws.rs-api-2.1.1.jar:/content/kafka_2.13-2.7.0/bin/../libs/jaxb-api-2.3.0.jar:/content/kafka_2.13-2.7.0/bin/../libs/jersey-client-2.31.jar:/content/kafka_2.13-2.7.0/bin/../libs/jersey-common-2.31.jar:/content/kafka_2.13-2.7.0/bin/../libs/jersey-container-servlet-2.31.jar:/content/kafka_2.13-2.7.0/bin/../libs/jersey-container-servlet-core-2.31.jar:/content/kafka_2.13-2.7.0/bin/../libs/jersey-hk2-2.31.jar:/content/kafka_2.13-2.7.0/bin/../libs/jersey-media-jaxb-2.31.jar:/content/kafka_2.13-2.7.0/bin/../libs/jersey-server-2.31.jar:/content/kafka_2.13-2.7.0/bin/../libs/jetty-client-9.4.33.v20201020.jar:/content/kafka_2.13-2.7.0/bin/../libs/jetty-continuation-9.4.33.v20201020.jar:/content/kafka_2.13-2.7.0/bin/../libs/jetty-http-9.4.33.v20201020.jar:/content/kafka_2.13-2.7.0/bin/../libs/jetty-io-9.4.33.v20201020.jar:/content/kafka_2.13-2.7.0/bin/../libs/jetty-security-9.4.33.v20201020.jar:/content/kafka_2.13-2.7.0/bin/../libs/jetty-server-9.4.33.v20201020.jar:/content/kafka_2.13-2.7.0/bin/../libs/jetty-servlet-9.4.33.v20201020.jar:/content/kafka_2.13-2.7.0/bin/../libs/jetty-servlets-9.4.33.v20201020.jar:/content/kafka_2.13-2.7.0/bin/../libs/jetty-util-9.4.33.v20201020.jar:/content/kafka_2.13-2.7.0/bin/../libs/jopt-simple-5.0.4.jar:/content/kafka_2.13-2.7.0/bin/../libs/kafka_2.13-2.7.0.jar:/content/kafka_2.13-2.7.0/bin/../libs/kafka_2.13-2.7.0-sources.jar:/content/kafka_2.13-2.7.0/bin/../libs/kafka-clients-2.7.0.jar:/content/kafka_2.13-2.7.0/bin/../libs/kafka-log4j-appender-2.7.0.jar:/content/kafka_2.13-2.7.0/bin/../libs/kafka-raft-2.7.0.jar:/content/kafka_2.13-2.7.0/bin/../libs/kafka-streams-2.7.0.jar:/content/kafka_2.13-2.7.0/bin/../libs/kafka-streams-examples-2.7.0.jar:/content/kafka_2.13-2.7.0/bin/../libs/kafka-streams-scala_2.13-2.7.0.jar:/content/kafka_2.13-2.7.0/bin/../libs/kafka-streams-test-utils-2.7.0.jar:/content/kafka_2.13-2.7.0/bin/../libs/kafka-tools-2.7.0.jar:/content/kafka_2.13-2.7.0/bin/../libs/log4j-1.2.17.jar:/content/kafka_2.13-2.7.0/bin/../libs/lz4-java-1.7.1.jar:/content/kafka_2.13-2.7.0/bin/../libs/maven-artifact-3.6.3.jar:/content/kafka_2.13-2.7.0/bin/../libs/metrics-core-2.2.0.jar:/content/kafka_2.13-2.7.0/bin/../libs/netty-buffer-4.1.51.Final.jar:/content/kafka_2.13-2.7.0/bin/../libs/netty-codec-4.1.51.Final.jar:/content/kafka_2.13-2.7.0/bin/../libs/netty-common-4.1.51.Final.jar:/content/kafka_2.13-2.7.0/bin/../libs/netty-handler-4.1.51.Final.jar:/content/kafka_2.13-2.7.0/bin/../libs/netty-resolver-4.1.51.Final.jar:/content/kafka_2.13-2.7.0/bin/../libs/netty-transport-4.1.51.Final.jar:/content/kafka_2.13-2.7.0/bin/../libs/netty-transport-native-epoll-4.1.51.Final.jar:/content/kafka_2.13-2.7.0/bin/../libs/netty-transport-native-unix-common-4.1.51.Final.jar:/content/kafka_2.13-2.7.0/bin/../libs/osgi-resource-locator-1.0.3.jar:/content/kafka_2.13-2.7.0/bin/../libs/paranamer-2.8.jar:/content/kafka_2.13-2.7.0/bin/../libs/plexus-utils-3.2.1.jar:/content/kafka_2.13-2.7.0/bin/../libs/reflections-0.9.12.jar:/content/kafka_2.13-2.7.0/bin/../libs/rocksdbjni-5.18.4.jar:/content/kafka_2.13-2.7.0/bin/../libs/scala-collection-compat_2.13-2.2.0.jar:/content/kafka_2.13-2.7.0/bin/../libs/scala-java8-compat_2.13-0.9.1.jar:/content/kafka_2.13-2.7.0/bin/../libs/scala-library-2.13.3.jar:/content/kafka_2.13-2.7.0/bin/../libs/scala-logging_2.13-3.9.2.jar:/content/kafka_2.13-2.7.0/bin/../libs/scala-reflect-2.13.3.jar:/content/kafka_2.13-2.7.0/bin/../libs/slf4j-api-1.7.30.jar:/content/kafka_2.13-2.7.0/bin/../libs/slf4j-log4j12-1.7.30.jar:/content/kafka_2.13-2.7.0/bin/../libs/snappy-java-1.1.7.7.jar:/content/kafka_2.13-2.7.0/bin/../libs/zookeeper-3.5.8.jar:/content/kafka_2.13-2.7.0/bin/../libs/zookeeper-jute-3.5.8.jar:/content/kafka_2.13-2.7.0/bin/../libs/zstd-jni-1.4.5-6.jar kafka.Kafka ./kafka_2.13-2.7.0/config/server.properties\n",
            "root         882      59  0 05:22 ?        00:00:00 /bin/bash -c ps -ef | grep kafka\n",
            "root         884     882  0 05:22 ?        00:00:00 grep kafka\n"
          ],
          "name": "stdout"
        }
      ]
    },
    {
      "cell_type": "code",
      "metadata": {
        "colab": {
          "base_uri": "https://localhost:8080/"
        },
        "id": "LgbG-tvZMKwG",
        "outputId": "4d18eaa5-53eb-42cb-9963-b6f55ebcaf68"
      },
      "source": [
        "!./kafka_2.13-2.7.0/bin/kafka-topics.sh --create --bootstrap-server 127.0.0.1:9092 --replication-factor 1 --partitions 1 --topic meetup-rsvp"
      ],
      "execution_count": null,
      "outputs": [
        {
          "output_type": "stream",
          "text": [
            "Created topic meetup-rsvp.\n"
          ],
          "name": "stdout"
        }
      ]
    },
    {
      "cell_type": "markdown",
      "metadata": {
        "id": "RKneHdawMqnz"
      },
      "source": [
        "## Download and Setup Spark"
      ]
    },
    {
      "cell_type": "code",
      "metadata": {
        "id": "1x0RG3UcMnuk"
      },
      "source": [
        "!apt-get install openjdk-8-jdk-headless -qq > /dev/null\n",
        "!wget -q https://mirrors.estointernet.in/apache/spark/spark-2.4.7/spark-2.4.7-bin-hadoop2.7.tgz\n",
        "!tar xf /content/spark-2.4.7-bin-hadoop2.7.tgz\n",
        "!pip install -q findspark"
      ],
      "execution_count": null,
      "outputs": []
    },
    {
      "cell_type": "code",
      "metadata": {
        "id": "GEtB8XtcN1Gi",
        "colab": {
          "base_uri": "https://localhost:8080/"
        },
        "outputId": "bfcf9511-5d38-4026-f497-70b791fd79b8"
      },
      "source": [
        "%env JAVA_HOME=/usr/lib/jvm/java-8-openjdk-amd64\n",
        "%env SPARK_HOME=/content/spark-2.4.7-bin-hadoop2.7"
      ],
      "execution_count": null,
      "outputs": [
        {
          "output_type": "stream",
          "text": [
            "env: JAVA_HOME=/usr/lib/jvm/java-8-openjdk-amd64\n",
            "env: SPARK_HOME=/content/spark-2.4.7-bin-hadoop2.7\n"
          ],
          "name": "stdout"
        }
      ]
    },
    {
      "cell_type": "markdown",
      "metadata": {
        "id": "xu10vY2cPaGC"
      },
      "source": [
        "## Setup Python Packages"
      ]
    },
    {
      "cell_type": "code",
      "metadata": {
        "colab": {
          "base_uri": "https://localhost:8080/"
        },
        "id": "bI_m4sJ2PfDe",
        "outputId": "77a88d76-e672-4f2d-e2ad-1238a865d73a"
      },
      "source": [
        "!pip install websocket-client\n",
        "!pip install kafka-python\n",
        "!pip install PyMySQL"
      ],
      "execution_count": null,
      "outputs": [
        {
          "output_type": "stream",
          "text": [
            "Collecting websocket-client\n",
            "\u001b[?25l  Downloading https://files.pythonhosted.org/packages/08/33/80e0d4f60e84a1ddd9a03f340be1065a2a363c47ce65c4bd3bae65ce9631/websocket_client-0.58.0-py2.py3-none-any.whl (61kB)\n",
            "\r\u001b[K     |█████▍                          | 10kB 14.3MB/s eta 0:00:01\r\u001b[K     |██████████▊                     | 20kB 11.7MB/s eta 0:00:01\r\u001b[K     |████████████████                | 30kB 8.9MB/s eta 0:00:01\r\u001b[K     |█████████████████████▍          | 40kB 7.6MB/s eta 0:00:01\r\u001b[K     |██████████████████████████▊     | 51kB 4.5MB/s eta 0:00:01\r\u001b[K     |████████████████████████████████| 61kB 2.7MB/s \n",
            "\u001b[?25hRequirement already satisfied: six in /usr/local/lib/python3.7/dist-packages (from websocket-client) (1.15.0)\n",
            "Installing collected packages: websocket-client\n",
            "Successfully installed websocket-client-0.58.0\n",
            "Collecting kafka-python\n",
            "\u001b[?25l  Downloading https://files.pythonhosted.org/packages/75/68/dcb0db055309f680ab2931a3eeb22d865604b638acf8c914bedf4c1a0c8c/kafka_python-2.0.2-py2.py3-none-any.whl (246kB)\n",
            "\u001b[K     |████████████████████████████████| 256kB 4.3MB/s \n",
            "\u001b[?25hInstalling collected packages: kafka-python\n",
            "Successfully installed kafka-python-2.0.2\n",
            "Collecting PyMySQL\n",
            "\u001b[?25l  Downloading https://files.pythonhosted.org/packages/4f/52/a115fe175028b058df353c5a3d5290b71514a83f67078a6482cff24d6137/PyMySQL-1.0.2-py3-none-any.whl (43kB)\n",
            "\u001b[K     |████████████████████████████████| 51kB 2.6MB/s \n",
            "\u001b[?25hInstalling collected packages: PyMySQL\n",
            "Successfully installed PyMySQL-1.0.2\n"
          ],
          "name": "stdout"
        }
      ]
    },
    {
      "cell_type": "markdown",
      "metadata": {
        "id": "IEmtrTCTtFEk"
      },
      "source": [
        "## Setup MySQL Server"
      ]
    },
    {
      "cell_type": "code",
      "metadata": {
        "id": "7IQFWJ4VFM1N"
      },
      "source": [
        "config = {\n",
        "  'user': 'admin',\n",
        "  'password': '************',\n",
        "  'host': '************.rds.amazonaws.com',\n",
        "  'database': 'BigData'\n",
        "}"
      ],
      "execution_count": null,
      "outputs": []
    },
    {
      "cell_type": "code",
      "metadata": {
        "id": "qPSQSMUhFXNA"
      },
      "source": [
        "import pymysql\n",
        "conn = pymysql.connect(**config)"
      ],
      "execution_count": null,
      "outputs": []
    },
    {
      "cell_type": "code",
      "metadata": {
        "id": "AetUKpvaUK6k"
      },
      "source": [
        "with conn.cursor() as cur:\n",
        "  cur.execute(\"DROP DATABASE BigData\")\n",
        "  cur.execute(\"CREATE DATABASE BigData\")\n",
        "  cur.execute(\"USE BigData\")"
      ],
      "execution_count": null,
      "outputs": []
    },
    {
      "cell_type": "markdown",
      "metadata": {
        "id": "TJS11-0TOuKP"
      },
      "source": [
        "## Run Kafka Producer"
      ]
    },
    {
      "cell_type": "code",
      "metadata": {
        "id": "-94qhtLqPEFj"
      },
      "source": [
        "import json\n",
        "import websocket\n",
        "import threading\n",
        "from kafka import KafkaProducer"
      ],
      "execution_count": null,
      "outputs": []
    },
    {
      "cell_type": "code",
      "metadata": {
        "id": "mQX0vaFmPXAb"
      },
      "source": [
        "KAFKA_PRODUCER = KafkaProducer(value_serializer=lambda m: json.dumps(m).encode('utf-8'),\n",
        "                               bootstrap_servers=['localhost:9092'])"
      ],
      "execution_count": null,
      "outputs": []
    },
    {
      "cell_type": "code",
      "metadata": {
        "id": "pR-fYi6aP2I3"
      },
      "source": [
        "def on_message(wsapp, message):\n",
        "    KAFKA_PRODUCER.send('meetup-rsvp', message)\n",
        "    KAFKA_PRODUCER.flush()\n",
        "\n",
        "def on_error(wsapp, error):\n",
        "    print(error)\n",
        "\n",
        "def on_close(wsapp):\n",
        "    print(\"Connection Closed\")"
      ],
      "execution_count": null,
      "outputs": []
    },
    {
      "cell_type": "code",
      "metadata": {
        "id": "-zAQ5eEzP57m"
      },
      "source": [
        "def main():\n",
        "  websocket.enableTrace(True)\n",
        "  print(\"Connection Established\")\n",
        "  wsapp = websocket.WebSocketApp(\"wss://stream.meetup.com/2/rsvps\", \n",
        "                                  on_message=on_message, \n",
        "                                  on_error=on_error,\n",
        "                                  on_close=on_close)\n",
        "  wsapp.run_forever()"
      ],
      "execution_count": null,
      "outputs": []
    },
    {
      "cell_type": "code",
      "metadata": {
        "id": "SdTIOG9MQB0m",
        "colab": {
          "base_uri": "https://localhost:8080/"
        },
        "outputId": "10f8b5b9-67b4-411d-c0c8-9ec40c9126e3"
      },
      "source": [
        "threading.Thread(target=main).start()"
      ],
      "execution_count": null,
      "outputs": [
        {
          "output_type": "stream",
          "text": [
            "Connection Established\n"
          ],
          "name": "stdout"
        }
      ]
    },
    {
      "cell_type": "markdown",
      "metadata": {
        "id": "Bf7N4JR2SBYq"
      },
      "source": [
        "## Run Spark Streaming"
      ]
    },
    {
      "cell_type": "code",
      "metadata": {
        "id": "LqZVY7jkRfGQ"
      },
      "source": [
        "import json\n",
        "import findspark\n",
        "\n",
        "findspark.add_packages(['org.apache.spark:spark-streaming-kafka-0-8_2.11:2.0.0'])\n",
        "findspark.init()"
      ],
      "execution_count": null,
      "outputs": []
    },
    {
      "cell_type": "code",
      "metadata": {
        "id": "3G71ag-ylzrK"
      },
      "source": [
        "from pyspark import SparkContext\n",
        "from pyspark.streaming import StreamingContext\n",
        "from pyspark.streaming.kafka import KafkaUtils"
      ],
      "execution_count": null,
      "outputs": []
    },
    {
      "cell_type": "code",
      "metadata": {
        "id": "Kzi7mCy8SKg5"
      },
      "source": [
        "sc = SparkContext(appName='App')\n",
        "ssc = StreamingContext(sc, 2)"
      ],
      "execution_count": null,
      "outputs": []
    },
    {
      "cell_type": "code",
      "metadata": {
        "id": "vT2089IvSYqC"
      },
      "source": [
        "brokers, topic = 'localhost:9092', 'meetup-rsvp'\n",
        "raw_data = KafkaUtils.createDirectStream(ssc, [topic], {'metadata.broker.list': brokers})"
      ],
      "execution_count": null,
      "outputs": []
    },
    {
      "cell_type": "code",
      "metadata": {
        "colab": {
          "base_uri": "https://localhost:8080/"
        },
        "id": "3UGeXsft6q_c",
        "outputId": "eadee242-5ce0-41c3-e275-f6ac1783ae03"
      },
      "source": [
        "raw_data.pprint()\n",
        "ssc.start()\n",
        "ssc.awaitTermination(timeout=5)\n",
        "ssc.stop()\n",
        "sc.stop()"
      ],
      "execution_count": null,
      "outputs": [
        {
          "output_type": "stream",
          "text": [
            "-------------------------------------------\n",
            "Time: 2021-04-21 05:34:02\n",
            "-------------------------------------------\n",
            "(None, '\"{\\\\\"venue\\\\\":{\\\\\"venue_name\\\\\":\\\\\"Tank Stream Labs\\\\\",\\\\\"lon\\\\\":115.85466,\\\\\"lat\\\\\":-31.956133,\\\\\"venue_id\\\\\":25746863},\\\\\"visibility\\\\\":\\\\\"public\\\\\",\\\\\"response\\\\\":\\\\\"yes\\\\\",\\\\\"guests\\\\\":0,\\\\\"member\\\\\":{\\\\\"member_id\\\\\":207032668,\\\\\"member_name\\\\\":\\\\\"James\\\\\"},\\\\\"rsvp_id\\\\\":1870880994,\\\\\"mtime\\\\\":1618983231000,\\\\\"event\\\\\":{\\\\\"event_name\\\\\":\\\\\"Sarada Lee presents \\\\\\\\\\\\\"From Counting Beans to Counting Cells\\\\\\\\\\\\\" [Beginner Friendly]\\\\\",\\\\\"event_id\\\\\":\\\\\"277270711\\\\\",\\\\\"time\\\\\":1620725400000,\\\\\"event_url\\\\\":\\\\\"https:\\\\\\\\/\\\\\\\\/www.meetup.com\\\\\\\\/Perth-Machine-Learning-Group\\\\\\\\/events\\\\\\\\/277270711\\\\\\\\/\\\\\"},\\\\\"group\\\\\":{\\\\\"group_topics\\\\\":[{\\\\\"urlkey\\\\\":\\\\\"data-analytics\\\\\",\\\\\"topic_name\\\\\":\\\\\"Data Analytics\\\\\"},{\\\\\"urlkey\\\\\":\\\\\"ai\\\\\",\\\\\"topic_name\\\\\":\\\\\"Artificial Intelligence\\\\\"},{\\\\\"urlkey\\\\\":\\\\\"predictive-analytics\\\\\",\\\\\"topic_name\\\\\":\\\\\"Predictive Analytics\\\\\"},{\\\\\"urlkey\\\\\":\\\\\"natural-language-processing\\\\\",\\\\\"topic_name\\\\\":\\\\\"Natural Language Processing\\\\\"},{\\\\\"urlkey\\\\\":\\\\\"neural-networks\\\\\",\\\\\"topic_name\\\\\":\\\\\"Neural Networks\\\\\"},{\\\\\"urlkey\\\\\":\\\\\"deep-learning\\\\\",\\\\\"topic_name\\\\\":\\\\\"Deep Learning\\\\\"},{\\\\\"urlkey\\\\\":\\\\\"machine-learning\\\\\",\\\\\"topic_name\\\\\":\\\\\"Machine Learning\\\\\"},{\\\\\"urlkey\\\\\":\\\\\"artificial-intelligence-applications\\\\\",\\\\\"topic_name\\\\\":\\\\\"Artificial Intelligence Applications\\\\\"},{\\\\\"urlkey\\\\\":\\\\\"artificial-intelligence-programming\\\\\",\\\\\"topic_name\\\\\":\\\\\"Artificial Intelligence Programming\\\\\"},{\\\\\"urlkey\\\\\":\\\\\"artificial-intelligence-machine-learning-robotics\\\\\",\\\\\"topic_name\\\\\":\\\\\"Artificial Intelligence Machine Learning Robotics\\\\\"},{\\\\\"urlkey\\\\\":\\\\\"fast-ai-followers\\\\\",\\\\\"topic_name\\\\\":\\\\\"Fast.ai followers\\\\\"},{\\\\\"urlkey\\\\\":\\\\\"python\\\\\",\\\\\"topic_name\\\\\":\\\\\"Python\\\\\"}],\\\\\"group_city\\\\\":\\\\\"Perth\\\\\",\\\\\"group_country\\\\\":\\\\\"au\\\\\",\\\\\"group_id\\\\\":25848127,\\\\\"group_name\\\\\":\\\\\"Perth Machine Learning Group\\\\\",\\\\\"group_lon\\\\\":115.84,\\\\\"group_urlname\\\\\":\\\\\"Perth-Machine-Learning-Group\\\\\",\\\\\"group_lat\\\\\":-31.96}}\\\\n\"')\n",
            "(None, '\"{\\\\\"venue\\\\\":{\\\\\"venue_name\\\\\":\\\\\"Online event\\\\\",\\\\\"lon\\\\\":179.1962,\\\\\"lat\\\\\":-8.521147,\\\\\"venue_id\\\\\":26906060},\\\\\"visibility\\\\\":\\\\\"public\\\\\",\\\\\"response\\\\\":\\\\\"yes\\\\\",\\\\\"guests\\\\\":0,\\\\\"member\\\\\":{\\\\\"member_id\\\\\":295968486,\\\\\"photo\\\\\":\\\\\"https:\\\\\\\\/\\\\\\\\/secure.meetupstatic.com\\\\\\\\/photos\\\\\\\\/member\\\\\\\\/8\\\\\\\\/2\\\\\\\\/9\\\\\\\\/thumb_294422089.jpeg\\\\\",\\\\\"member_name\\\\\":\\\\\"Mesut \\\\\"},\\\\\"rsvp_id\\\\\":1870881003,\\\\\"mtime\\\\\":1618983241660,\\\\\"event\\\\\":{\\\\\"event_name\\\\\":\\\\\"E-commerce 101:  How Entrepreneurs Can Profit from the $1 Trillion Spent Online!\\\\\",\\\\\"event_id\\\\\":\\\\\"277693369\\\\\",\\\\\"time\\\\\":1619024400000,\\\\\"event_url\\\\\":\\\\\"https:\\\\\\\\/\\\\\\\\/www.meetup.com\\\\\\\\/Ankara-Small-Business-Meetup\\\\\\\\/events\\\\\\\\/277693369\\\\\\\\/\\\\\"},\\\\\"group\\\\\":{\\\\\"group_topics\\\\\":[{\\\\\"urlkey\\\\\":\\\\\"smallbiz\\\\\",\\\\\"topic_name\\\\\":\\\\\"Small Business\\\\\"},{\\\\\"urlkey\\\\\":\\\\\"marketing\\\\\",\\\\\"topic_name\\\\\":\\\\\"Marketing\\\\\"},{\\\\\"urlkey\\\\\":\\\\\"softwaredev\\\\\",\\\\\"topic_name\\\\\":\\\\\"Software Development\\\\\"},{\\\\\"urlkey\\\\\":\\\\\"socialnetwork\\\\\",\\\\\"topic_name\\\\\":\\\\\"Social Networking\\\\\"},{\\\\\"urlkey\\\\\":\\\\\"newtech\\\\\",\\\\\"topic_name\\\\\":\\\\\"New Technology\\\\\"},{\\\\\"urlkey\\\\\":\\\\\"women-entrepreneurs\\\\\",\\\\\"topic_name\\\\\":\\\\\"Women Entrepreneurs\\\\\"},{\\\\\"urlkey\\\\\":\\\\\"business-strategy\\\\\",\\\\\"topic_name\\\\\":\\\\\"Business Strategy\\\\\"},{\\\\\"urlkey\\\\\":\\\\\"entrepreneurship\\\\\",\\\\\"topic_name\\\\\":\\\\\"Entrepreneurship\\\\\"},{\\\\\"urlkey\\\\\":\\\\\"business-entrepreneur-networking\\\\\",\\\\\"topic_name\\\\\":\\\\\"Entrepreneur Networking\\\\\"},{\\\\\"urlkey\\\\\":\\\\\"startup-businesses\\\\\",\\\\\"topic_name\\\\\":\\\\\"Startup Businesses\\\\\"},{\\\\\"urlkey\\\\\":\\\\\"angel-investors\\\\\",\\\\\"topic_name\\\\\":\\\\\"Angel Investors\\\\\"},{\\\\\"urlkey\\\\\":\\\\\"venture-capital\\\\\",\\\\\"topic_name\\\\\":\\\\\"Venture Capital\\\\\"},{\\\\\"urlkey\\\\\":\\\\\"computer-programming\\\\\",\\\\\"topic_name\\\\\":\\\\\"Computer programming\\\\\"},{\\\\\"urlkey\\\\\":\\\\\"technology-startups\\\\\",\\\\\"topic_name\\\\\":\\\\\"Technology Startups\\\\\"},{\\\\\"urlkey\\\\\":\\\\\"internet-startups\\\\\",\\\\\"topic_name\\\\\":\\\\\"Internet Startups\\\\\"}],\\\\\"group_city\\\\\":\\\\\"Ankara\\\\\",\\\\\"group_country\\\\\":\\\\\"tr\\\\\",\\\\\"group_id\\\\\":21431410,\\\\\"group_name\\\\\":\\\\\"Ankara Startup:  Idea to IPO\\\\\",\\\\\"group_lon\\\\\":32.85,\\\\\"group_urlname\\\\\":\\\\\"Ankara-Small-Business-Meetup\\\\\",\\\\\"group_lat\\\\\":39.93}}\\\\n\"')\n",
            "\n",
            "-------------------------------------------\n",
            "Time: 2021-04-21 05:34:04\n",
            "-------------------------------------------\n",
            "(None, '\"{\\\\\"venue\\\\\":{\\\\\"venue_name\\\\\":\\\\\"Yoyogi park (Harajuku Gate)\\\\\",\\\\\"lon\\\\\":139.695999,\\\\\"lat\\\\\":35.6707,\\\\\"venue_id\\\\\":20431022},\\\\\"visibility\\\\\":\\\\\"public\\\\\",\\\\\"response\\\\\":\\\\\"yes\\\\\",\\\\\"guests\\\\\":0,\\\\\"member\\\\\":{\\\\\"member_id\\\\\":303237847,\\\\\"photo\\\\\":\\\\\"https:\\\\\\\\/\\\\\\\\/secure.meetupstatic.com\\\\\\\\/photos\\\\\\\\/member\\\\\\\\/3\\\\\\\\/2\\\\\\\\/3\\\\\\\\/d\\\\\\\\/thumb_300132861.jpeg\\\\\",\\\\\"member_name\\\\\":\\\\\"Haruka i\\\\\"},\\\\\"rsvp_id\\\\\":1870223136,\\\\\"mtime\\\\\":1618983242115,\\\\\"event\\\\\":{\\\\\"event_name\\\\\":\\\\\"\\\\u30e8\\\\u30ac\\\\uff20\\\\u4ee3\\\\u3005\\\\u6728\\\\u516c\\\\u5712 \\\\\\\\/ Yoga at Yoyogi Park\\\\\",\\\\\"event_id\\\\\":\\\\\"277542300\\\\\",\\\\\"time\\\\\":1619312400000,\\\\\"event_url\\\\\":\\\\\"https:\\\\\\\\/\\\\\\\\/www.meetup.com\\\\\\\\/ReleaseYogaTokyo\\\\\\\\/events\\\\\\\\/277542300\\\\\\\\/\\\\\"},\\\\\"group\\\\\":{\\\\\"group_topics\\\\\":[{\\\\\"urlkey\\\\\":\\\\\"wellness\\\\\",\\\\\"topic_name\\\\\":\\\\\"Wellness\\\\\"},{\\\\\"urlkey\\\\\":\\\\\"yoga\\\\\",\\\\\"topic_name\\\\\":\\\\\"Yoga\\\\\"},{\\\\\"urlkey\\\\\":\\\\\"weightloss\\\\\",\\\\\"topic_name\\\\\":\\\\\"Weight Loss\\\\\"},{\\\\\"urlkey\\\\\":\\\\\"vinyasa-yoga\\\\\",\\\\\"topic_name\\\\\":\\\\\"Vinyasa Yoga\\\\\"},{\\\\\"urlkey\\\\\":\\\\\"self-improvement\\\\\",\\\\\"topic_name\\\\\":\\\\\"Self-Improvement\\\\\"},{\\\\\"urlkey\\\\\":\\\\\"healing\\\\\",\\\\\"topic_name\\\\\":\\\\\"Healing\\\\\"},{\\\\\"urlkey\\\\\":\\\\\"yoga-in-the-park\\\\\",\\\\\"topic_name\\\\\":\\\\\"Yoga in the Park\\\\\"},{\\\\\"urlkey\\\\\":\\\\\"gentle-yoga\\\\\",\\\\\"topic_name\\\\\":\\\\\"Gentle Yoga\\\\\"},{\\\\\"urlkey\\\\\":\\\\\"self-empowerment\\\\\",\\\\\"topic_name\\\\\":\\\\\"Self-Empowerment\\\\\"},{\\\\\"urlkey\\\\\":\\\\\"healthy-living\\\\\",\\\\\"topic_name\\\\\":\\\\\"Healthy Living\\\\\"},{\\\\\"urlkey\\\\\":\\\\\"aromatherapy\\\\\",\\\\\"topic_name\\\\\":\\\\\"Aromatherapy\\\\\"},{\\\\\"urlkey\\\\\":\\\\\"culture-exchange\\\\\",\\\\\"topic_name\\\\\":\\\\\"Culture Exchange\\\\\"},{\\\\\"urlkey\\\\\":\\\\\"international-friends\\\\\",\\\\\"topic_name\\\\\":\\\\\"International Friends\\\\\"},{\\\\\"urlkey\\\\\":\\\\\"fitness\\\\\",\\\\\"topic_name\\\\\":\\\\\"Fitness\\\\\"}],\\\\\"group_city\\\\\":\\\\\"Tokyo\\\\\",\\\\\"group_country\\\\\":\\\\\"jp\\\\\",\\\\\"group_id\\\\\":19050823,\\\\\"group_name\\\\\":\\\\\"Release Yoga (Yoyogi Park, Akihabara)\\\\\",\\\\\"group_lon\\\\\":139.77,\\\\\"group_urlname\\\\\":\\\\\"ReleaseYogaTokyo\\\\\",\\\\\"group_lat\\\\\":35.67}}\\\\n\"')\n",
            "(None, '\"{\\\\\"venue\\\\\":{\\\\\"venue_name\\\\\":\\\\\"Little Cheesman\\\\\",\\\\\"lon\\\\\":-104.96534,\\\\\"lat\\\\\":39.728218,\\\\\"venue_id\\\\\":26931571},\\\\\"visibility\\\\\":\\\\\"public\\\\\",\\\\\"response\\\\\":\\\\\"yes\\\\\",\\\\\"guests\\\\\":0,\\\\\"member\\\\\":{\\\\\"member_id\\\\\":325480573,\\\\\"member_name\\\\\":\\\\\"Anita\\\\\"},\\\\\"rsvp_id\\\\\":1870881004,\\\\\"mtime\\\\\":1618983243535,\\\\\"event\\\\\":{\\\\\"event_name\\\\\":\\\\\"HABITUAL YOGA - LITTLE CHEESMAN PARK\\\\\",\\\\\"event_id\\\\\":\\\\\"fxvlhsyccgbgc\\\\\",\\\\\"time\\\\\":1619276400000,\\\\\"event_url\\\\\":\\\\\"https:\\\\\\\\/\\\\\\\\/www.meetup.com\\\\\\\\/Meet-Mindful-Activity-Events-Networking\\\\\\\\/events\\\\\\\\/277646809\\\\\\\\/\\\\\"},\\\\\"group\\\\\":{\\\\\"group_topics\\\\\":[{\\\\\"urlkey\\\\\":\\\\\"business-referral-networking\\\\\",\\\\\"topic_name\\\\\":\\\\\"Business Referral Networking\\\\\"},{\\\\\"urlkey\\\\\":\\\\\"entrepreneurship\\\\\",\\\\\"topic_name\\\\\":\\\\\"Entrepreneurship\\\\\"},{\\\\\"urlkey\\\\\":\\\\\"lifetransform\\\\\",\\\\\"topic_name\\\\\":\\\\\"Life Transformation\\\\\"},{\\\\\"urlkey\\\\\":\\\\\"lawofattraction\\\\\",\\\\\"topic_name\\\\\":\\\\\"Law of Attraction\\\\\"},{\\\\\"urlkey\\\\\":\\\\\"self-exploration\\\\\",\\\\\"topic_name\\\\\":\\\\\"Self Exploration\\\\\"},{\\\\\"urlkey\\\\\":\\\\\"professional-networking\\\\\",\\\\\"topic_name\\\\\":\\\\\"Professional Networking\\\\\"},{\\\\\"urlkey\\\\\":\\\\\"adventure\\\\\",\\\\\"topic_name\\\\\":\\\\\"Adventure\\\\\"},{\\\\\"urlkey\\\\\":\\\\\"outdoors\\\\\",\\\\\"topic_name\\\\\":\\\\\"Outdoors\\\\\"},{\\\\\"urlkey\\\\\":\\\\\"newintown\\\\\",\\\\\"topic_name\\\\\":\\\\\"New In Town\\\\\"},{\\\\\"urlkey\\\\\":\\\\\"meditation\\\\\",\\\\\"topic_name\\\\\":\\\\\"Meditation\\\\\"},{\\\\\"urlkey\\\\\":\\\\\"weekend-adventures\\\\\",\\\\\"topic_name\\\\\":\\\\\"Weekend Adventures\\\\\"},{\\\\\"urlkey\\\\\":\\\\\"metaphysics\\\\\",\\\\\"topic_name\\\\\":\\\\\"Metaphysics\\\\\"},{\\\\\"urlkey\\\\\":\\\\\"singles\\\\\",\\\\\"topic_name\\\\\":\\\\\"Singles\\\\\"},{\\\\\"urlkey\\\\\":\\\\\"socialnetwork\\\\\",\\\\\"topic_name\\\\\":\\\\\"Social Networking\\\\\"},{\\\\\"urlkey\\\\\":\\\\\"fun-times\\\\\",\\\\\"topic_name\\\\\":\\\\\"Fun Times\\\\\"}],\\\\\"group_city\\\\\":\\\\\"Denver\\\\\",\\\\\"group_country\\\\\":\\\\\"us\\\\\",\\\\\"group_id\\\\\":32723619,\\\\\"group_name\\\\\":\\\\\"Mindful Mingle Community Wellness Events\\\\\",\\\\\"group_lon\\\\\":-105.08,\\\\\"group_urlname\\\\\":\\\\\"Meet-Mindful-Activity-Events-Networking\\\\\",\\\\\"group_state\\\\\":\\\\\"CO\\\\\",\\\\\"group_lat\\\\\":39.7}}\\\\n\"')\n",
            "\n",
            "-------------------------------------------\n",
            "Time: 2021-04-21 05:34:06\n",
            "-------------------------------------------\n",
            "\n"
          ],
          "name": "stdout"
        }
      ]
    },
    {
      "cell_type": "code",
      "metadata": {
        "id": "PXAHPQoRmeOr"
      },
      "source": [
        "raw_data = raw_data.map(lambda x: json.loads(x[1])).map(lambda x: json.loads(x))\n",
        "stream_data = raw_data.flatMap(lambda x: x.items())"
      ],
      "execution_count": null,
      "outputs": []
    },
    {
      "cell_type": "code",
      "metadata": {
        "colab": {
          "base_uri": "https://localhost:8080/"
        },
        "id": "hkPgGiZO7O3D",
        "outputId": "73bb0809-52e9-4253-8859-7552488f4a88"
      },
      "source": [
        "raw_data.pprint()\n",
        "ssc.start()\n",
        "ssc.awaitTermination(timeout=5)\n",
        "ssc.stop()\n",
        "sc.stop()"
      ],
      "execution_count": null,
      "outputs": [
        {
          "output_type": "stream",
          "text": [
            "-------------------------------------------\n",
            "Time: 2021-04-21 05:35:32\n",
            "-------------------------------------------\n",
            "{'venue': {'venue_name': 'Southern Cross Garden Bar & Restaurant', 'lon': 174.775421, 'lat': -41.293785, 'venue_id': 11135672}, 'visibility': 'public', 'response': 'yes', 'guests': 0, 'member': {'member_id': 127254612, 'photo': 'https://secure.meetupstatic.com/photos/member/8/5/d/f/thumb_303694271.jpeg', 'member_name': 'Sharon'}, 'rsvp_id': 1870881058, 'mtime': 1618983330661, 'event': {'event_name': 'Quebecois Short Film Night - Southern Cross', 'event_id': '277680406', 'time': 1622010600000, 'event_url': 'https://www.meetup.com/Wellington-Independent-Film-Meetup/events/277680406/'}, 'group': {'group_topics': [{'urlkey': 'drinking', 'topic_name': 'Drinking'}, {'urlkey': 'movie-nights', 'topic_name': 'Movie Nights'}, {'urlkey': 'beer', 'topic_name': 'Beer'}, {'urlkey': 'indiefilm', 'topic_name': 'Indie Films'}, {'urlkey': 'movies', 'topic_name': 'Watching Movies'}, {'urlkey': 'socialnetwork', 'topic_name': 'Social Networking'}, {'urlkey': 'movies-in-movie-theaters', 'topic_name': 'Movies in Movie Theaters'}, {'urlkey': 'film-festivals-outdoor-movies-random-movies', 'topic_name': 'Film Festivals; Outdoor Movies; Random Movies'}, {'urlkey': 'beer-lovers', 'topic_name': 'Beer Lovers'}, {'urlkey': 'dinner-and-a-movie', 'topic_name': 'Dinner and a Movie'}, {'urlkey': 'food-and-drinks', 'topic_name': 'Food and drinks'}, {'urlkey': 'fun-times', 'topic_name': 'Fun Times'}, {'urlkey': 'friends-friends-friends', 'topic_name': 'friends friends friends'}, {'urlkey': 'coffee', 'topic_name': 'Coffee'}], 'group_city': 'Wellington', 'group_country': 'nz', 'group_id': 21974375, 'group_name': 'Wellington Independent Film Meetup', 'group_lon': 174.78, 'group_urlname': 'Wellington-Independent-Film-Meetup', 'group_lat': -41.28}}\n",
            "\n",
            "-------------------------------------------\n",
            "Time: 2021-04-21 05:35:34\n",
            "-------------------------------------------\n",
            "{'venue': {'venue_name': 'Online event', 'lon': 179.1962, 'lat': -8.521147, 'venue_id': 26906060}, 'visibility': 'public', 'response': 'yes', 'guests': 0, 'member': {'member_id': 55920492, 'photo': 'https://secure.meetupstatic.com/photos/member/2/3/5/2/thumb_64209042.jpeg', 'member_name': 'Alex Benedict'}, 'rsvp_id': 1870881059, 'mtime': 1618983332317, 'event': {'event_name': 'Open Lab with Kinetech Arts!', 'event_id': '277669525', 'time': 1619053200000, 'event_url': 'https://www.meetup.com/Kinetech-Arts/events/277669525/'}, 'group': {'group_topics': [{'urlkey': 'data-analytics', 'topic_name': 'Data Analytics'}, {'urlkey': 'computer-programming', 'topic_name': 'Computer programming'}, {'urlkey': 'musicians', 'topic_name': 'Musicians'}, {'urlkey': 'performing-arts', 'topic_name': 'Performing Arts'}, {'urlkey': 'art', 'topic_name': 'Art'}, {'urlkey': 'javascript', 'topic_name': 'JavaScript'}, {'urlkey': 'newtech', 'topic_name': 'New Technology'}, {'urlkey': 'ixd', 'topic_name': 'Interaction Design'}, {'urlkey': 'technology', 'topic_name': 'Technology'}, {'urlkey': 'mobile-technology', 'topic_name': 'Mobile Technology'}, {'urlkey': 'boston-artists', 'topic_name': 'Artists'}, {'urlkey': 'user-experience', 'topic_name': 'User Experience'}, {'urlkey': 'creative', 'topic_name': 'Creativity'}, {'urlkey': 'data-visualization', 'topic_name': 'Data Visualization'}], 'group_city': 'San Francisco', 'group_country': 'us', 'group_id': 18802304, 'group_name': 'Kinetech Arts', 'group_lon': -122.42, 'group_urlname': 'Kinetech-Arts', 'group_state': 'CA', 'group_lat': 37.78}}\n",
            "{'venue': {'venue_name': 'Business Bay', 'lon': 55.26664, 'lat': 25.183661, 'venue_id': 13271192}, 'visibility': 'public', 'response': 'yes', 'guests': 0, 'member': {'member_id': 265155120, 'photo': 'https://secure.meetupstatic.com/photos/member/a/8/b/b/thumb_281383195.jpeg', 'member_name': 'Zineb Tahri'}, 'rsvp_id': 1870881060, 'mtime': 1618983332687, 'event': {'event_name': 'Sip n Paint DXB', 'event_id': '277450499', 'time': 1619753400000, 'event_url': 'https://www.meetup.com/sip-n-paint-dxb/events/277450499/'}, 'group': {'group_topics': [{'urlkey': 'creativecircle', 'topic_name': 'Creative Circle'}, {'urlkey': 'boston-artists', 'topic_name': 'Artists'}, {'urlkey': 'painting', 'topic_name': 'Painting'}, {'urlkey': 'acrylic-painting-classes', 'topic_name': 'Acrylic Painting classes'}, {'urlkey': 'painters', 'topic_name': 'Painters'}, {'urlkey': 'oil-painting-classes', 'topic_name': 'Oil Painting Classes'}, {'urlkey': 'painting-classes', 'topic_name': 'Painting classes'}, {'urlkey': 'art', 'topic_name': 'Art'}, {'urlkey': 'creative', 'topic_name': 'Creativity'}], 'group_city': 'Dubai', 'group_country': 'ae', 'group_id': 35020654, 'group_name': 'Sip n Paint DXB', 'group_lon': 55.33, 'group_urlname': 'sip-n-paint-dxb', 'group_lat': 25.27}}\n",
            "{'venue': {'venue_name': 'Online event', 'lon': 179.1962, 'lat': -8.521147, 'venue_id': 26906060}, 'visibility': 'public', 'response': 'yes', 'guests': 0, 'member': {'member_id': 244162539, 'photo': 'https://secure.meetupstatic.com/photos/member/b/4/7/a/thumb_280126202.jpeg', 'member_name': 'Bruce'}, 'rsvp_id': 1870881061, 'mtime': 1618983333705, 'event': {'event_name': 'ACP Zoom - May 2021 – Check Our Reviews! -   $39 USD', 'event_id': '277701661', 'time': 1620167400000, 'event_url': 'https://www.meetup.com/a-conscious-partner-dallas/events/277701661/'}, 'group': {'group_topics': [{'urlkey': 'philosophy', 'topic_name': 'Philosophy'}, {'urlkey': 'self-empowerment', 'topic_name': 'Self-Empowerment'}, {'urlkey': 'lifetransform', 'topic_name': 'Life Transformation'}, {'urlkey': 'self-improvement', 'topic_name': 'Self-Improvement'}, {'urlkey': 'consciousness', 'topic_name': 'Consciousness'}, {'urlkey': 'intellectual-discussion', 'topic_name': 'Intellectual Discussion'}, {'urlkey': 'critical-thinking', 'topic_name': 'Critical Thinking'}, {'urlkey': 'personal-development', 'topic_name': 'Personal Development'}, {'urlkey': 'life-coaching', 'topic_name': 'Life Coaching'}, {'urlkey': 'conscious-movement', 'topic_name': 'Conscious Movement'}, {'urlkey': 'dating-and-relationships', 'topic_name': 'Dating and Relationships'}, {'urlkey': 'courses-and-workshops', 'topic_name': 'Courses and Workshops'}, {'urlkey': 'self-exploration', 'topic_name': 'Self Exploration'}, {'urlkey': 'dating-relationships-romance', 'topic_name': 'Dating & Relationships / Romance'}], 'group_city': 'Dallas', 'group_country': 'us', 'group_id': 34571065, 'group_name': 'A Conscious Partner Dallas', 'group_lon': -96.8, 'group_urlname': 'a-conscious-partner-dallas', 'group_state': 'TX', 'group_lat': 32.79}}\n",
            "\n"
          ],
          "name": "stdout"
        }
      ]
    },
    {
      "cell_type": "code",
      "metadata": {
        "colab": {
          "base_uri": "https://localhost:8080/"
        },
        "id": "ig7uisAu7yxW",
        "outputId": "ef1ce893-9408-4306-91d3-658921b82841"
      },
      "source": [
        "stream_data.pprint()\n",
        "ssc.start()\n",
        "ssc.awaitTermination(timeout=5)\n",
        "ssc.stop()\n",
        "sc.stop()"
      ],
      "execution_count": null,
      "outputs": [
        {
          "output_type": "stream",
          "text": [
            "-------------------------------------------\n",
            "Time: 2021-04-21 05:38:08\n",
            "-------------------------------------------\n",
            "('venue', {'venue_name': 'Online event', 'lon': 179.1962, 'lat': -8.521147, 'venue_id': 26906060})\n",
            "('visibility', 'public')\n",
            "('response', 'yes')\n",
            "('guests', 0)\n",
            "('member', {'member_id': 187981047, 'other_services': {'facebook': {'identifier': '10153423426807022'}}, 'photo': 'https://secure.meetupstatic.com/photos/member/1/1/9/5/thumb_246724501.jpeg', 'member_name': 'Özgür Karadeniz'})\n",
            "('rsvp_id', 1870881161)\n",
            "('mtime', 1618983484285)\n",
            "('event', {'event_name': 'Tour de Tools: Veezoo with JP Monteiro', 'event_id': '277683522', 'time': 1621501200000, 'event_url': 'https://www.meetup.com/rootlabs-x/events/277683522/'})\n",
            "('group', {'group_topics': [{'urlkey': 'data-analytics', 'topic_name': 'Data Analytics'}, {'urlkey': 'softwaredev', 'topic_name': 'Software Development'}, {'urlkey': 'data-science', 'topic_name': 'Data Science'}, {'urlkey': 'courses-and-workshops', 'topic_name': 'Courses and Workshops'}, {'urlkey': 'computer-programming', 'topic_name': 'Computer programming'}, {'urlkey': 'predictive-analytics', 'topic_name': 'Predictive Analytics'}, {'urlkey': 'data-visualization', 'topic_name': 'Data Visualization'}, {'urlkey': 'big-data-analytics', 'topic_name': 'Big Data Analytics'}, {'urlkey': 'big-data', 'topic_name': 'Big Data'}, {'urlkey': 'ai', 'topic_name': 'Artificial Intelligence'}, {'urlkey': 'python', 'topic_name': 'Python'}, {'urlkey': 'cloud-computing', 'topic_name': 'Cloud Computing'}, {'urlkey': 'machine-learning', 'topic_name': 'Machine Learning'}, {'urlkey': 'data-engineering', 'topic_name': 'data engineering'}], 'group_city': 'Leuven', 'group_country': 'be', 'group_id': 33656747, 'group_name': 'rootlabs', 'group_lon': 4.7, 'group_urlname': 'rootlabs-x', 'group_lat': 50.88})\n",
            "('venue', {'venue_name': 'Online event', 'lon': 179.1962, 'lat': -8.521147, 'venue_id': 26906060})\n",
            "...\n",
            "\n",
            "-------------------------------------------\n",
            "Time: 2021-04-21 05:38:10\n",
            "-------------------------------------------\n",
            "('visibility', 'public')\n",
            "('response', 'yes')\n",
            "('guests', 0)\n",
            "('member', {'member_id': 323834631, 'photo': 'https://secure.meetupstatic.com/photos/member/8/2/7/3/thumb_303273395.jpeg', 'member_name': 'Rachel'})\n",
            "('rsvp_id', 1870881162)\n",
            "('mtime', 1618983488098)\n",
            "('event', {'event_name': '🚶\\u200d♀️🚶 Walk & Talk @ Royal Botanic Gardens 🌲🌼🌿🌸🌳', 'event_id': '277624428', 'time': 1619310600000, 'event_url': 'https://www.meetup.com/melbourneinternationalgroup/events/277624428/'})\n",
            "('group', {'group_topics': [{'urlkey': 'socialnetwork', 'topic_name': 'Social Networking'}, {'urlkey': 'language', 'topic_name': 'Language & Culture'}, {'urlkey': 'fun-times', 'topic_name': 'Fun Times'}, {'urlkey': 'language-exchange', 'topic_name': 'Language Exchange'}, {'urlkey': 'international-friends', 'topic_name': 'International Friends'}, {'urlkey': 'meeting-old-friends-and-making-new-friends', 'topic_name': 'Meeting old friends and making new friends'}, {'urlkey': 'melbourne', 'topic_name': 'Melbourne'}, {'urlkey': 'socialising-in-melbourne', 'topic_name': 'Socialising in Melbourne'}, {'urlkey': 'culture-exchange', 'topic_name': 'Culture Exchange'}, {'urlkey': 'new-in-melbourne', 'topic_name': 'New in Melbourne'}, {'urlkey': 'mates-in-melbourne', 'topic_name': 'Mates in Melbourne'}, {'urlkey': 'language-cultural-exchange', 'topic_name': 'Language & Cultural Exchange'}, {'urlkey': 'global-language-cultural-exchange', 'topic_name': 'Global Language & Cultural Exchange'}, {'urlkey': 'international-and-cultural-exchange', 'topic_name': 'International and Cultural Exchange'}], 'group_city': 'Melbourne', 'group_country': 'au', 'group_id': 34521594, 'group_name': 'Melbourne International Group', 'group_lon': 144.96, 'group_urlname': 'melbourneinternationalgroup', 'group_lat': -37.81})\n",
            "('venue', {'venue_name': 'Online event', 'lon': 179.1962, 'lat': -8.521147, 'venue_id': 26906060})\n",
            "('visibility', 'public')\n",
            "...\n",
            "\n"
          ],
          "name": "stdout"
        }
      ]
    },
    {
      "cell_type": "markdown",
      "metadata": {
        "id": "si2xi-nJEiJc"
      },
      "source": [
        "## Group By Country"
      ]
    },
    {
      "cell_type": "markdown",
      "metadata": {
        "id": "5LK__lnCH4ni"
      },
      "source": [
        "### MySQL Functions"
      ]
    },
    {
      "cell_type": "code",
      "metadata": {
        "id": "c1E3byR_H3l6"
      },
      "source": [
        "with conn.cursor() as cur:\n",
        "  cur.execute(\"CREATE TABLE countries(name VARCHAR(50), alpha CHAR(2), region VARCHAR(15), count INT)\")"
      ],
      "execution_count": null,
      "outputs": []
    },
    {
      "cell_type": "code",
      "metadata": {
        "id": "xirTfUVDKB0-"
      },
      "source": [
        "def create_mysql(df):\n",
        "  cols = \"`,`\".join([str(i) for i in df.columns.tolist()])\n",
        "  with conn.cursor() as cur:\n",
        "    for i,row in df.iterrows():\n",
        "        sql = \"INSERT INTO `countries` (`\" +cols + \"`) VALUES (\" + \"%s,\"*(len(row)-1) + \"%s)\"\n",
        "        cur.execute(sql, tuple(row))\n",
        "        conn.commit()"
      ],
      "execution_count": null,
      "outputs": []
    },
    {
      "cell_type": "code",
      "metadata": {
        "id": "1TqGgpKzlwZe"
      },
      "source": [
        "def update_mysql(alpha, count):\n",
        "  with conn.cursor() as cur:\n",
        "    sql = f\"UPDATE countries SET count = {count} WHERE alpha = '{alpha}'\"\n",
        "    cur.execute(sql)\n",
        "    conn.commit()"
      ],
      "execution_count": null,
      "outputs": []
    },
    {
      "cell_type": "markdown",
      "metadata": {
        "id": "m1J0JGBEJKBj"
      },
      "source": [
        "### Country Data"
      ]
    },
    {
      "cell_type": "code",
      "metadata": {
        "id": "wZzCBgfbJNHE",
        "colab": {
          "base_uri": "https://localhost:8080/"
        },
        "outputId": "fa0a74c8-d7f1-4314-b045-4ef52da95572"
      },
      "source": [
        "!wget https://raw.githubusercontent.com/lukes/ISO-3166-Countries-with-Regional-Codes/master/all/all.csv"
      ],
      "execution_count": null,
      "outputs": [
        {
          "output_type": "stream",
          "text": [
            "--2021-04-21 05:53:48--  https://raw.githubusercontent.com/lukes/ISO-3166-Countries-with-Regional-Codes/master/all/all.csv\n",
            "Resolving raw.githubusercontent.com (raw.githubusercontent.com)... 185.199.108.133, 185.199.109.133, 185.199.110.133, ...\n",
            "Connecting to raw.githubusercontent.com (raw.githubusercontent.com)|185.199.108.133|:443... connected.\n",
            "HTTP request sent, awaiting response... 200 OK\n",
            "Length: 20759 (20K) [text/plain]\n",
            "Saving to: ‘all.csv’\n",
            "\n",
            "\rall.csv               0%[                    ]       0  --.-KB/s               \rall.csv             100%[===================>]  20.27K  --.-KB/s    in 0.001s  \n",
            "\n",
            "2021-04-21 05:53:48 (14.7 MB/s) - ‘all.csv’ saved [20759/20759]\n",
            "\n"
          ],
          "name": "stdout"
        }
      ]
    },
    {
      "cell_type": "code",
      "metadata": {
        "id": "s3Tw-SRKJq8n"
      },
      "source": [
        "import pandas as pd"
      ],
      "execution_count": null,
      "outputs": []
    },
    {
      "cell_type": "code",
      "metadata": {
        "id": "BmXyy-o4J0NQ"
      },
      "source": [
        "countries = pd.read_csv('/content/all.csv')\n",
        "countries = countries[['name', 'alpha-2', 'region']]\n",
        "countries = countries.dropna()\n",
        "countries['alpha-2'] = countries['alpha-2'].str.lower()\n",
        "countries.loc[countries['alpha-2'] == 'gb', ['name']] = 'Britain'\n",
        "countries = countries.rename(columns={'alpha-2': 'alpha'})\n",
        "countries['count'] = 0"
      ],
      "execution_count": null,
      "outputs": []
    },
    {
      "cell_type": "code",
      "metadata": {
        "colab": {
          "base_uri": "https://localhost:8080/",
          "height": 206
        },
        "id": "ILZmfvAt_lSu",
        "outputId": "4c1b4c8e-be84-4348-bd0a-94444eba215c"
      },
      "source": [
        "countries.head()"
      ],
      "execution_count": null,
      "outputs": [
        {
          "output_type": "execute_result",
          "data": {
            "text/html": [
              "<div>\n",
              "<style scoped>\n",
              "    .dataframe tbody tr th:only-of-type {\n",
              "        vertical-align: middle;\n",
              "    }\n",
              "\n",
              "    .dataframe tbody tr th {\n",
              "        vertical-align: top;\n",
              "    }\n",
              "\n",
              "    .dataframe thead th {\n",
              "        text-align: right;\n",
              "    }\n",
              "</style>\n",
              "<table border=\"1\" class=\"dataframe\">\n",
              "  <thead>\n",
              "    <tr style=\"text-align: right;\">\n",
              "      <th></th>\n",
              "      <th>name</th>\n",
              "      <th>alpha</th>\n",
              "      <th>region</th>\n",
              "      <th>count</th>\n",
              "    </tr>\n",
              "  </thead>\n",
              "  <tbody>\n",
              "    <tr>\n",
              "      <th>0</th>\n",
              "      <td>Afghanistan</td>\n",
              "      <td>af</td>\n",
              "      <td>Asia</td>\n",
              "      <td>0</td>\n",
              "    </tr>\n",
              "    <tr>\n",
              "      <th>1</th>\n",
              "      <td>Åland Islands</td>\n",
              "      <td>ax</td>\n",
              "      <td>Europe</td>\n",
              "      <td>0</td>\n",
              "    </tr>\n",
              "    <tr>\n",
              "      <th>2</th>\n",
              "      <td>Albania</td>\n",
              "      <td>al</td>\n",
              "      <td>Europe</td>\n",
              "      <td>0</td>\n",
              "    </tr>\n",
              "    <tr>\n",
              "      <th>3</th>\n",
              "      <td>Algeria</td>\n",
              "      <td>dz</td>\n",
              "      <td>Africa</td>\n",
              "      <td>0</td>\n",
              "    </tr>\n",
              "    <tr>\n",
              "      <th>4</th>\n",
              "      <td>American Samoa</td>\n",
              "      <td>as</td>\n",
              "      <td>Oceania</td>\n",
              "      <td>0</td>\n",
              "    </tr>\n",
              "  </tbody>\n",
              "</table>\n",
              "</div>"
            ],
            "text/plain": [
              "             name alpha   region  count\n",
              "0     Afghanistan    af     Asia      0\n",
              "1   Åland Islands    ax   Europe      0\n",
              "2         Albania    al   Europe      0\n",
              "3         Algeria    dz   Africa      0\n",
              "4  American Samoa    as  Oceania      0"
            ]
          },
          "metadata": {
            "tags": []
          },
          "execution_count": 37
        }
      ]
    },
    {
      "cell_type": "code",
      "metadata": {
        "id": "58B33MhVmrY-"
      },
      "source": [
        "create_mysql(countries)"
      ],
      "execution_count": null,
      "outputs": []
    },
    {
      "cell_type": "markdown",
      "metadata": {
        "id": "TfWZXQpiK0v-"
      },
      "source": [
        "### Spark"
      ]
    },
    {
      "cell_type": "code",
      "metadata": {
        "id": "OUUpnxm_l0Gm"
      },
      "source": [
        "def aggregate(_, x):\n",
        "  x = x.collect()\n",
        "  for i in x:\n",
        "    countries.loc[countries['alpha'] == i[0], ['count']] += i[1]\n",
        "    update_mysql(i[0], int(countries.loc[countries['alpha'] == i[0], ['count']].values))"
      ],
      "execution_count": null,
      "outputs": []
    },
    {
      "cell_type": "code",
      "metadata": {
        "id": "JrtSsQfcEkfJ"
      },
      "source": [
        "group_country = stream_data.filter(lambda x: x[0] == 'group')\n",
        "group_country = group_country.map(lambda x: x[1]['group_country'])\n",
        "group_country = group_country.map(lambda x: (x, 1))\n",
        "group_country = group_country.reduceByKey(lambda a, b: a+b).foreachRDD(aggregate)"
      ],
      "execution_count": null,
      "outputs": []
    },
    {
      "cell_type": "code",
      "metadata": {
        "id": "IzkfvWmqFDnS"
      },
      "source": [
        "# group_country.pprint()\n",
        "ssc.start()\n",
        "ssc.awaitTermination(timeout=50)\n",
        "ssc.stop()\n",
        "sc.stop()"
      ],
      "execution_count": null,
      "outputs": []
    },
    {
      "cell_type": "markdown",
      "metadata": {
        "id": "S_bcB3AYVqbh"
      },
      "source": [
        "## Save Data"
      ]
    },
    {
      "cell_type": "code",
      "metadata": {
        "id": "wYTFdBbuVsv7"
      },
      "source": [
        "save_data = raw_data.map(lambda x: (x['member']['member_id'], x['event']['event_name'], [x['group']['group_topics'][i]['urlkey'] for i in range(len(x['group']['group_topics']))]))"
      ],
      "execution_count": null,
      "outputs": []
    },
    {
      "cell_type": "code",
      "metadata": {
        "colab": {
          "base_uri": "https://localhost:8080/"
        },
        "id": "2XgQxs9qX1u9",
        "outputId": "64f1a48c-0ddf-493e-e970-ba07ef56c9f0"
      },
      "source": [
        "save_data.pprint()\n",
        "ssc.start()\n",
        "ssc.awaitTermination(timeout=5)\n",
        "ssc.stop()\n",
        "sc.stop()"
      ],
      "execution_count": null,
      "outputs": [
        {
          "output_type": "stream",
          "text": [
            "-------------------------------------------\n",
            "Time: 2021-04-21 03:06:00\n",
            "-------------------------------------------\n",
            "(209210628, \"NY Women's Coming Out Meetup\", ['Lesbian', 'lesbianmoms', 'lgbtfriends', 'women', 'gay-and-lesbian-friends', 'lgbt-social-group', 'lesbian-friends', 'bisexual-women', 'gay-friends', 'bisexual-friends', 'bisexual-support', 'lesbian-social-networking', 'lesbians-over-40', 'lgbtq'])\n",
            "\n",
            "-------------------------------------------\n",
            "Time: 2021-04-21 03:06:02\n",
            "-------------------------------------------\n",
            "(327749715, 'Online ESL Conversation Class', ['esl', 'communication-esl-immersion', 'culture-exchange', 'esl-meet-up', 'language-exchange', 'english-language', 'language', 'esl-practice', 'esl-teachers', 'esl-friends', 'esl-program', 'esl-toronto'])\n",
            "(329385059, 'Explore: Outdoor BYOB(runch) ', ['bookclub', 'social', 'tabletop-role-playing-and-board-games', 'outdoors', 'newintown', 'exploring-new-restaurants', 'singles', 'hiking', 'yoga', 'indoor-and-outdoor-rock-climbing', 'urban-bicycling', 'running', 'happy-hours', 'beginners-running'])\n",
            "(9225074, 'Sunset Yoga', ['atheists', 'agnostic', 'recovering-from-religion', 'freethinker', 'freedom-from-religion', 'skeptics', 'humanism', 'churchandstate', 'critical-thinking', 'science'])\n",
            "\n",
            "-------------------------------------------\n",
            "Time: 2021-04-21 03:06:04\n",
            "-------------------------------------------\n",
            "\n"
          ],
          "name": "stdout"
        }
      ]
    },
    {
      "cell_type": "code",
      "metadata": {
        "id": "mggTZj0QYoce"
      },
      "source": [
        "ssc.stop()\n",
        "sc.stop()"
      ],
      "execution_count": null,
      "outputs": []
    },
    {
      "cell_type": "code",
      "metadata": {
        "id": "xvlGsWNJYqEX"
      },
      "source": [
        ""
      ],
      "execution_count": null,
      "outputs": []
    }
  ]
}