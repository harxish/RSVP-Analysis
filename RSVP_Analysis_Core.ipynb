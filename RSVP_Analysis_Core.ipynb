{
  "nbformat": 4,
  "nbformat_minor": 0,
  "metadata": {
    "colab": {
      "name": "Big_Data_Package.ipynb",
      "provenance": [],
      "collapsed_sections": [
        "cOWPZkShLvdL",
        "RKneHdawMqnz",
        "xu10vY2cPaGC",
        "IEmtrTCTtFEk",
        "TJS11-0TOuKP",
        "Bf7N4JR2SBYq",
        "si2xi-nJEiJc",
        "5LK__lnCH4ni",
        "m1J0JGBEJKBj",
        "TfWZXQpiK0v-",
        "S_bcB3AYVqbh"
      ]
    },
    "kernelspec": {
      "display_name": "Python 3",
      "name": "python3"
    },
    "language_info": {
      "name": "python"
    }
  },
  "cells": [
    {
      "cell_type": "markdown",
      "metadata": {
        "id": "cOWPZkShLvdL"
      },
      "source": [
        "## Download and Setup Kafka"
      ]
    },
    {
      "cell_type": "code",
      "metadata": {
        "id": "qr-RTnNeLRm3"
      },
      "source": [
        "!curl -sSOL https://downloads.apache.org/kafka/2.7.0/kafka_2.13-2.7.0.tgz\n",
        "!tar -xzf kafka_2.13-2.7.0.tgz"
      ],
      "execution_count": null,
      "outputs": []
    },
    {
      "cell_type": "code",
      "metadata": {
        "id": "1eufS9gEL63g"
      },
      "source": [
        "!./kafka_2.13-2.7.0/bin/zookeeper-server-start.sh -daemon ./kafka_2.13-2.7.0/config/zookeeper.properties\n",
        "!./kafka_2.13-2.7.0/bin/kafka-server-start.sh -daemon ./kafka_2.13-2.7.0/config/server.properties\n",
        "!echo \"Waiting for 10 secs until kafka and zookeeper services are up and running\"\n",
        "!sleep 10"
      ],
      "execution_count": null,
      "outputs": []
    },
    {
      "cell_type": "code",
      "metadata": {
        "id": "YT7CppMrL7mt"
      },
      "source": [
        "!ps -ef | grep kafka"
      ],
      "execution_count": null,
      "outputs": []
    },
    {
      "cell_type": "code",
      "metadata": {
        "id": "LgbG-tvZMKwG"
      },
      "source": [
        "!./kafka_2.13-2.7.0/bin/kafka-topics.sh --create --bootstrap-server 127.0.0.1:9092 --replication-factor 1 --partitions 1 --topic meetup-rsvp"
      ],
      "execution_count": null,
      "outputs": []
    },
    {
      "cell_type": "markdown",
      "metadata": {
        "id": "RKneHdawMqnz"
      },
      "source": [
        "## Download and Setup Spark"
      ]
    },
    {
      "cell_type": "code",
      "metadata": {
        "id": "1x0RG3UcMnuk"
      },
      "source": [
        "!apt-get install openjdk-8-jdk-headless -qq > /dev/null\n",
        "!wget -q https://mirrors.estointernet.in/apache/spark/spark-2.4.7/spark-2.4.7-bin-hadoop2.7.tgz\n",
        "!tar xf /content/spark-2.4.7-bin-hadoop2.7.tgz\n",
        "!pip install -q findspark"
      ],
      "execution_count": null,
      "outputs": []
    },
    {
      "cell_type": "code",
      "metadata": {
        "id": "GEtB8XtcN1Gi",
        "colab": {
          "base_uri": "https://localhost:8080/"
        },
        "outputId": "bfcf9511-5d38-4026-f497-70b791fd79b8"
      },
      "source": [
        "%env JAVA_HOME=/usr/lib/jvm/java-8-openjdk-amd64\n",
        "%env SPARK_HOME=/content/spark-2.4.7-bin-hadoop2.7"
      ],
      "execution_count": null,
      "outputs": [
        {
          "output_type": "stream",
          "text": [
            "env: JAVA_HOME=/usr/lib/jvm/java-8-openjdk-amd64\n",
            "env: SPARK_HOME=/content/spark-2.4.7-bin-hadoop2.7\n"
          ],
          "name": "stdout"
        }
      ]
    },
    {
      "cell_type": "markdown",
      "metadata": {
        "id": "xu10vY2cPaGC"
      },
      "source": [
        "## Setup Python Packages"
      ]
    },
    {
      "cell_type": "code",
      "metadata": {
        "id": "bI_m4sJ2PfDe"
      },
      "source": [
        "!pip install websocket-client\n",
        "!pip install kafka-python\n",
        "!pip install PyMySQL"
      ],
      "execution_count": null,
      "outputs": []
    },
    {
      "cell_type": "markdown",
      "metadata": {
        "id": "IEmtrTCTtFEk"
      },
      "source": [
        "## Setup MySQL Server"
      ]
    },
    {
      "cell_type": "code",
      "metadata": {
        "id": "7IQFWJ4VFM1N"
      },
      "source": [
        "config = {\n",
        "  'user': 'admin',\n",
        "  'password': '************',\n",
        "  'host': '************.rds.amazonaws.com',\n",
        "  'database': 'BigData'\n",
        "}"
      ],
      "execution_count": null,
      "outputs": []
    },
    {
      "cell_type": "code",
      "metadata": {
        "id": "qPSQSMUhFXNA"
      },
      "source": [
        "import pymysql\n",
        "conn = pymysql.connect(**config)"
      ],
      "execution_count": null,
      "outputs": []
    },
    {
      "cell_type": "code",
      "metadata": {
        "id": "AetUKpvaUK6k"
      },
      "source": [
        "with conn.cursor() as cur:\n",
        "  cur.execute(\"DROP DATABASE BigData\")\n",
        "  cur.execute(\"CREATE DATABASE BigData\")\n",
        "  cur.execute(\"USE BigData\")"
      ],
      "execution_count": null,
      "outputs": []
    },
    {
      "cell_type": "markdown",
      "metadata": {
        "id": "TJS11-0TOuKP"
      },
      "source": [
        "## Run Kafka Producer"
      ]
    },
    {
      "cell_type": "code",
      "metadata": {
        "id": "-94qhtLqPEFj"
      },
      "source": [
        "import json\n",
        "import websocket\n",
        "import threading\n",
        "from kafka import KafkaProducer"
      ],
      "execution_count": null,
      "outputs": []
    },
    {
      "cell_type": "code",
      "metadata": {
        "id": "mQX0vaFmPXAb"
      },
      "source": [
        "KAFKA_PRODUCER = KafkaProducer(value_serializer=lambda m: json.dumps(m).encode('utf-8'),\n",
        "                               bootstrap_servers=['localhost:9092'])"
      ],
      "execution_count": null,
      "outputs": []
    },
    {
      "cell_type": "code",
      "metadata": {
        "id": "pR-fYi6aP2I3"
      },
      "source": [
        "def on_message(wsapp, message):\n",
        "    KAFKA_PRODUCER.send('meetup-rsvp', message)\n",
        "    KAFKA_PRODUCER.flush()\n",
        "\n",
        "def on_error(wsapp, error):\n",
        "    print(error)\n",
        "\n",
        "def on_close(wsapp):\n",
        "    print(\"Connection Closed\")"
      ],
      "execution_count": null,
      "outputs": []
    },
    {
      "cell_type": "code",
      "metadata": {
        "id": "-zAQ5eEzP57m"
      },
      "source": [
        "def main():\n",
        "  websocket.enableTrace(True)\n",
        "  print(\"Connection Established\")\n",
        "  wsapp = websocket.WebSocketApp(\"wss://stream.meetup.com/2/rsvps\", \n",
        "                                  on_message=on_message, \n",
        "                                  on_error=on_error,\n",
        "                                  on_close=on_close)\n",
        "  wsapp.run_forever()"
      ],
      "execution_count": null,
      "outputs": []
    },
    {
      "cell_type": "code",
      "metadata": {
        "id": "SdTIOG9MQB0m",
        "colab": {
          "base_uri": "https://localhost:8080/"
        },
        "outputId": "10f8b5b9-67b4-411d-c0c8-9ec40c9126e3"
      },
      "source": [
        "threading.Thread(target=main).start()"
      ],
      "execution_count": null,
      "outputs": [
        {
          "output_type": "stream",
          "text": [
            "Connection Established\n"
          ],
          "name": "stdout"
        }
      ]
    },
    {
      "cell_type": "markdown",
      "metadata": {
        "id": "Bf7N4JR2SBYq"
      },
      "source": [
        "## Run Spark Streaming"
      ]
    },
    {
      "cell_type": "code",
      "metadata": {
        "id": "LqZVY7jkRfGQ"
      },
      "source": [
        "import json\n",
        "import findspark\n",
        "\n",
        "findspark.add_packages(['org.apache.spark:spark-streaming-kafka-0-8_2.11:2.0.0'])\n",
        "findspark.init()"
      ],
      "execution_count": null,
      "outputs": []
    },
    {
      "cell_type": "code",
      "metadata": {
        "id": "3G71ag-ylzrK"
      },
      "source": [
        "from pyspark import SparkContext\n",
        "from pyspark.streaming import StreamingContext\n",
        "from pyspark.streaming.kafka import KafkaUtils"
      ],
      "execution_count": null,
      "outputs": []
    },
    {
      "cell_type": "code",
      "metadata": {
        "id": "Kzi7mCy8SKg5"
      },
      "source": [
        "sc = SparkContext(appName='App')\n",
        "ssc = StreamingContext(sc, 2)"
      ],
      "execution_count": null,
      "outputs": []
    },
    {
      "cell_type": "code",
      "metadata": {
        "id": "vT2089IvSYqC"
      },
      "source": [
        "brokers, topic = 'localhost:9092', 'meetup-rsvp'\n",
        "raw_data = KafkaUtils.createDirectStream(ssc, [topic], {'metadata.broker.list': brokers})"
      ],
      "execution_count": null,
      "outputs": []
    },
    {
      "cell_type": "code",
      "metadata": {
        "id": "3UGeXsft6q_c"
      },
      "source": [
        "raw_data.pprint()\n",
        "ssc.start()\n",
        "ssc.awaitTermination(timeout=5)\n",
        "ssc.stop()\n",
        "sc.stop()"
      ],
      "execution_count": null,
      "outputs": []
    },
    {
      "cell_type": "code",
      "metadata": {
        "id": "PXAHPQoRmeOr"
      },
      "source": [
        "raw_data = raw_data.map(lambda x: json.loads(x[1])).map(lambda x: json.loads(x))\n",
        "stream_data = raw_data.flatMap(lambda x: x.items())"
      ],
      "execution_count": null,
      "outputs": []
    },
    {
      "cell_type": "code",
      "metadata": {
        "id": "hkPgGiZO7O3D"
      },
      "source": [
        "raw_data.pprint()\n",
        "ssc.start()\n",
        "ssc.awaitTermination(timeout=5)\n",
        "ssc.stop()\n",
        "sc.stop()"
      ],
      "execution_count": null,
      "outputs": []
    },
    {
      "cell_type": "code",
      "metadata": {
        "colab": {
          "base_uri": "https://localhost:8080/"
        },
        "id": "ig7uisAu7yxW",
        "outputId": "ef1ce893-9408-4306-91d3-658921b82841"
      },
      "source": [
        "stream_data.pprint()\n",
        "ssc.start()\n",
        "ssc.awaitTermination(timeout=5)\n",
        "ssc.stop()\n",
        "sc.stop()"
      ],
      "execution_count": null,
      "outputs": [
        {
          "output_type": "stream",
          "text": [
            "-------------------------------------------\n",
            "Time: 2021-04-21 05:38:08\n",
            "-------------------------------------------\n",
            "('venue', {'venue_name': 'Online event', 'lon': 179.1962, 'lat': -8.521147, 'venue_id': 26906060})\n",
            "('visibility', 'public')\n",
            "('response', 'yes')\n",
            "('guests', 0)\n",
            "('member', {'member_id': 187981047, 'other_services': {'facebook': {'identifier': '10153423426807022'}}, 'photo': 'https://secure.meetupstatic.com/photos/member/1/1/9/5/thumb_246724501.jpeg', 'member_name': 'Özgür Karadeniz'})\n",
            "('rsvp_id', 1870881161)\n",
            "('mtime', 1618983484285)\n",
            "('event', {'event_name': 'Tour de Tools: Veezoo with JP Monteiro', 'event_id': '277683522', 'time': 1621501200000, 'event_url': 'https://www.meetup.com/rootlabs-x/events/277683522/'})\n",
            "('group', {'group_topics': [{'urlkey': 'data-analytics', 'topic_name': 'Data Analytics'}, {'urlkey': 'softwaredev', 'topic_name': 'Software Development'}, {'urlkey': 'data-science', 'topic_name': 'Data Science'}, {'urlkey': 'courses-and-workshops', 'topic_name': 'Courses and Workshops'}, {'urlkey': 'computer-programming', 'topic_name': 'Computer programming'}, {'urlkey': 'predictive-analytics', 'topic_name': 'Predictive Analytics'}, {'urlkey': 'data-visualization', 'topic_name': 'Data Visualization'}, {'urlkey': 'big-data-analytics', 'topic_name': 'Big Data Analytics'}, {'urlkey': 'big-data', 'topic_name': 'Big Data'}, {'urlkey': 'ai', 'topic_name': 'Artificial Intelligence'}, {'urlkey': 'python', 'topic_name': 'Python'}, {'urlkey': 'cloud-computing', 'topic_name': 'Cloud Computing'}, {'urlkey': 'machine-learning', 'topic_name': 'Machine Learning'}, {'urlkey': 'data-engineering', 'topic_name': 'data engineering'}], 'group_city': 'Leuven', 'group_country': 'be', 'group_id': 33656747, 'group_name': 'rootlabs', 'group_lon': 4.7, 'group_urlname': 'rootlabs-x', 'group_lat': 50.88})\n",
            "('venue', {'venue_name': 'Online event', 'lon': 179.1962, 'lat': -8.521147, 'venue_id': 26906060})\n",
            "...\n",
            "\n",
            "-------------------------------------------\n",
            "Time: 2021-04-21 05:38:10\n",
            "-------------------------------------------\n",
            "('visibility', 'public')\n",
            "('response', 'yes')\n",
            "('guests', 0)\n",
            "('member', {'member_id': 323834631, 'photo': 'https://secure.meetupstatic.com/photos/member/8/2/7/3/thumb_303273395.jpeg', 'member_name': 'Rachel'})\n",
            "('rsvp_id', 1870881162)\n",
            "('mtime', 1618983488098)\n",
            "('event', {'event_name': '🚶\\u200d♀️🚶 Walk & Talk @ Royal Botanic Gardens 🌲🌼🌿🌸🌳', 'event_id': '277624428', 'time': 1619310600000, 'event_url': 'https://www.meetup.com/melbourneinternationalgroup/events/277624428/'})\n",
            "('group', {'group_topics': [{'urlkey': 'socialnetwork', 'topic_name': 'Social Networking'}, {'urlkey': 'language', 'topic_name': 'Language & Culture'}, {'urlkey': 'fun-times', 'topic_name': 'Fun Times'}, {'urlkey': 'language-exchange', 'topic_name': 'Language Exchange'}, {'urlkey': 'international-friends', 'topic_name': 'International Friends'}, {'urlkey': 'meeting-old-friends-and-making-new-friends', 'topic_name': 'Meeting old friends and making new friends'}, {'urlkey': 'melbourne', 'topic_name': 'Melbourne'}, {'urlkey': 'socialising-in-melbourne', 'topic_name': 'Socialising in Melbourne'}, {'urlkey': 'culture-exchange', 'topic_name': 'Culture Exchange'}, {'urlkey': 'new-in-melbourne', 'topic_name': 'New in Melbourne'}, {'urlkey': 'mates-in-melbourne', 'topic_name': 'Mates in Melbourne'}, {'urlkey': 'language-cultural-exchange', 'topic_name': 'Language & Cultural Exchange'}, {'urlkey': 'global-language-cultural-exchange', 'topic_name': 'Global Language & Cultural Exchange'}, {'urlkey': 'international-and-cultural-exchange', 'topic_name': 'International and Cultural Exchange'}], 'group_city': 'Melbourne', 'group_country': 'au', 'group_id': 34521594, 'group_name': 'Melbourne International Group', 'group_lon': 144.96, 'group_urlname': 'melbourneinternationalgroup', 'group_lat': -37.81})\n",
            "('venue', {'venue_name': 'Online event', 'lon': 179.1962, 'lat': -8.521147, 'venue_id': 26906060})\n",
            "('visibility', 'public')\n",
            "...\n",
            "\n"
          ],
          "name": "stdout"
        }
      ]
    },
    {
      "cell_type": "markdown",
      "metadata": {
        "id": "si2xi-nJEiJc"
      },
      "source": [
        "## Group By Country"
      ]
    },
    {
      "cell_type": "markdown",
      "metadata": {
        "id": "5LK__lnCH4ni"
      },
      "source": [
        "### MySQL Functions"
      ]
    },
    {
      "cell_type": "code",
      "metadata": {
        "id": "c1E3byR_H3l6"
      },
      "source": [
        "with conn.cursor() as cur:\n",
        "  cur.execute(\"CREATE TABLE countries(name VARCHAR(50), alpha CHAR(2), region VARCHAR(15), count INT)\")"
      ],
      "execution_count": null,
      "outputs": []
    },
    {
      "cell_type": "code",
      "metadata": {
        "id": "xirTfUVDKB0-"
      },
      "source": [
        "def create_mysql(df):\n",
        "  cols = \"`,`\".join([str(i) for i in df.columns.tolist()])\n",
        "  with conn.cursor() as cur:\n",
        "    for i,row in df.iterrows():\n",
        "        sql = \"INSERT INTO `countries` (`\" +cols + \"`) VALUES (\" + \"%s,\"*(len(row)-1) + \"%s)\"\n",
        "        cur.execute(sql, tuple(row))\n",
        "        conn.commit()"
      ],
      "execution_count": null,
      "outputs": []
    },
    {
      "cell_type": "code",
      "metadata": {
        "id": "1TqGgpKzlwZe"
      },
      "source": [
        "def update_mysql(alpha, count):\n",
        "  with conn.cursor() as cur:\n",
        "    sql = f\"UPDATE countries SET count = {count} WHERE alpha = '{alpha}'\"\n",
        "    cur.execute(sql)\n",
        "    conn.commit()"
      ],
      "execution_count": null,
      "outputs": []
    },
    {
      "cell_type": "markdown",
      "metadata": {
        "id": "m1J0JGBEJKBj"
      },
      "source": [
        "### Country Data"
      ]
    },
    {
      "cell_type": "code",
      "metadata": {
        "id": "wZzCBgfbJNHE"
      },
      "source": [
        "!wget https://raw.githubusercontent.com/lukes/ISO-3166-Countries-with-Regional-Codes/master/all/all.csv"
      ],
      "execution_count": null,
      "outputs": []
    },
    {
      "cell_type": "code",
      "metadata": {
        "id": "s3Tw-SRKJq8n"
      },
      "source": [
        "import pandas as pd"
      ],
      "execution_count": null,
      "outputs": []
    },
    {
      "cell_type": "code",
      "metadata": {
        "id": "BmXyy-o4J0NQ"
      },
      "source": [
        "countries = pd.read_csv('/content/all.csv')\n",
        "countries = countries[['name', 'alpha-2', 'region']]\n",
        "countries = countries.dropna()\n",
        "countries['alpha-2'] = countries['alpha-2'].str.lower()\n",
        "countries.loc[countries['alpha-2'] == 'gb', ['name']] = 'Britain'\n",
        "countries = countries.rename(columns={'alpha-2': 'alpha'})\n",
        "countries['count'] = 0"
      ],
      "execution_count": null,
      "outputs": []
    },
    {
      "cell_type": "code",
      "metadata": {
        "colab": {
          "base_uri": "https://localhost:8080/",
          "height": 206
        },
        "id": "ILZmfvAt_lSu",
        "outputId": "4c1b4c8e-be84-4348-bd0a-94444eba215c"
      },
      "source": [
        "countries.head()"
      ],
      "execution_count": null,
      "outputs": [
        {
          "output_type": "execute_result",
          "data": {
            "text/html": [
              "<div>\n",
              "<style scoped>\n",
              "    .dataframe tbody tr th:only-of-type {\n",
              "        vertical-align: middle;\n",
              "    }\n",
              "\n",
              "    .dataframe tbody tr th {\n",
              "        vertical-align: top;\n",
              "    }\n",
              "\n",
              "    .dataframe thead th {\n",
              "        text-align: right;\n",
              "    }\n",
              "</style>\n",
              "<table border=\"1\" class=\"dataframe\">\n",
              "  <thead>\n",
              "    <tr style=\"text-align: right;\">\n",
              "      <th></th>\n",
              "      <th>name</th>\n",
              "      <th>alpha</th>\n",
              "      <th>region</th>\n",
              "      <th>count</th>\n",
              "    </tr>\n",
              "  </thead>\n",
              "  <tbody>\n",
              "    <tr>\n",
              "      <th>0</th>\n",
              "      <td>Afghanistan</td>\n",
              "      <td>af</td>\n",
              "      <td>Asia</td>\n",
              "      <td>0</td>\n",
              "    </tr>\n",
              "    <tr>\n",
              "      <th>1</th>\n",
              "      <td>Åland Islands</td>\n",
              "      <td>ax</td>\n",
              "      <td>Europe</td>\n",
              "      <td>0</td>\n",
              "    </tr>\n",
              "    <tr>\n",
              "      <th>2</th>\n",
              "      <td>Albania</td>\n",
              "      <td>al</td>\n",
              "      <td>Europe</td>\n",
              "      <td>0</td>\n",
              "    </tr>\n",
              "    <tr>\n",
              "      <th>3</th>\n",
              "      <td>Algeria</td>\n",
              "      <td>dz</td>\n",
              "      <td>Africa</td>\n",
              "      <td>0</td>\n",
              "    </tr>\n",
              "    <tr>\n",
              "      <th>4</th>\n",
              "      <td>American Samoa</td>\n",
              "      <td>as</td>\n",
              "      <td>Oceania</td>\n",
              "      <td>0</td>\n",
              "    </tr>\n",
              "  </tbody>\n",
              "</table>\n",
              "</div>"
            ],
            "text/plain": [
              "             name alpha   region  count\n",
              "0     Afghanistan    af     Asia      0\n",
              "1   Åland Islands    ax   Europe      0\n",
              "2         Albania    al   Europe      0\n",
              "3         Algeria    dz   Africa      0\n",
              "4  American Samoa    as  Oceania      0"
            ]
          },
          "metadata": {
            "tags": []
          },
          "execution_count": 37
        }
      ]
    },
    {
      "cell_type": "code",
      "metadata": {
        "id": "58B33MhVmrY-"
      },
      "source": [
        "create_mysql(countries)"
      ],
      "execution_count": null,
      "outputs": []
    },
    {
      "cell_type": "markdown",
      "metadata": {
        "id": "TfWZXQpiK0v-"
      },
      "source": [
        "### Spark"
      ]
    },
    {
      "cell_type": "code",
      "metadata": {
        "id": "OUUpnxm_l0Gm"
      },
      "source": [
        "def aggregate(_, x):\n",
        "  x = x.collect()\n",
        "  for i in x:\n",
        "    countries.loc[countries['alpha'] == i[0], ['count']] += i[1]\n",
        "    update_mysql(i[0], int(countries.loc[countries['alpha'] == i[0], ['count']].values))"
      ],
      "execution_count": null,
      "outputs": []
    },
    {
      "cell_type": "code",
      "metadata": {
        "id": "JrtSsQfcEkfJ"
      },
      "source": [
        "group_country = stream_data.filter(lambda x: x[0] == 'group')\n",
        "group_country = group_country.map(lambda x: x[1]['group_country'])\n",
        "group_country = group_country.map(lambda x: (x, 1))\n",
        "group_country = group_country.reduceByKey(lambda a, b: a+b).foreachRDD(aggregate)"
      ],
      "execution_count": null,
      "outputs": []
    },
    {
      "cell_type": "code",
      "metadata": {
        "id": "IzkfvWmqFDnS"
      },
      "source": [
        "# group_country.pprint()\n",
        "ssc.start()\n",
        "ssc.awaitTermination(timeout=50)\n",
        "ssc.stop()\n",
        "sc.stop()"
      ],
      "execution_count": null,
      "outputs": []
    },
    {
      "cell_type": "markdown",
      "metadata": {
        "id": "S_bcB3AYVqbh"
      },
      "source": [
        "## Save Data"
      ]
    },
    {
      "cell_type": "code",
      "metadata": {
        "id": "wYTFdBbuVsv7"
      },
      "source": [
        "save_data = raw_data.map(lambda x: (x['member']['member_id'], x['event']['event_name'], [x['group']['group_topics'][i]['urlkey'] for i in range(len(x['group']['group_topics']))]))"
      ],
      "execution_count": null,
      "outputs": []
    },
    {
      "cell_type": "code",
      "metadata": {
        "colab": {
          "base_uri": "https://localhost:8080/"
        },
        "id": "2XgQxs9qX1u9",
        "outputId": "64f1a48c-0ddf-493e-e970-ba07ef56c9f0"
      },
      "source": [
        "save_data.pprint()\n",
        "ssc.start()\n",
        "ssc.awaitTermination(timeout=5)\n",
        "ssc.stop()\n",
        "sc.stop()"
      ],
      "execution_count": null,
      "outputs": [
        {
          "output_type": "stream",
          "text": [
            "-------------------------------------------\n",
            "Time: 2021-04-21 03:06:00\n",
            "-------------------------------------------\n",
            "(209210628, \"NY Women's Coming Out Meetup\", ['Lesbian', 'lesbianmoms', 'lgbtfriends', 'women', 'gay-and-lesbian-friends', 'lgbt-social-group', 'lesbian-friends', 'bisexual-women', 'gay-friends', 'bisexual-friends', 'bisexual-support', 'lesbian-social-networking', 'lesbians-over-40', 'lgbtq'])\n",
            "\n",
            "-------------------------------------------\n",
            "Time: 2021-04-21 03:06:02\n",
            "-------------------------------------------\n",
            "(327749715, 'Online ESL Conversation Class', ['esl', 'communication-esl-immersion', 'culture-exchange', 'esl-meet-up', 'language-exchange', 'english-language', 'language', 'esl-practice', 'esl-teachers', 'esl-friends', 'esl-program', 'esl-toronto'])\n",
            "(329385059, 'Explore: Outdoor BYOB(runch) ', ['bookclub', 'social', 'tabletop-role-playing-and-board-games', 'outdoors', 'newintown', 'exploring-new-restaurants', 'singles', 'hiking', 'yoga', 'indoor-and-outdoor-rock-climbing', 'urban-bicycling', 'running', 'happy-hours', 'beginners-running'])\n",
            "(9225074, 'Sunset Yoga', ['atheists', 'agnostic', 'recovering-from-religion', 'freethinker', 'freedom-from-religion', 'skeptics', 'humanism', 'churchandstate', 'critical-thinking', 'science'])\n",
            "\n",
            "-------------------------------------------\n",
            "Time: 2021-04-21 03:06:04\n",
            "-------------------------------------------\n",
            "\n"
          ],
          "name": "stdout"
        }
      ]
    },
    {
      "cell_type": "code",
      "metadata": {
        "id": "mggTZj0QYoce"
      },
      "source": [
        "ssc.stop()\n",
        "sc.stop()"
      ],
      "execution_count": null,
      "outputs": []
    }
  ]
}